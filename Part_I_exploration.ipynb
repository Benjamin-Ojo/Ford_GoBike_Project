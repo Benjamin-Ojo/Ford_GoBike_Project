{
 "cells": [
  {
   "cell_type": "markdown",
   "metadata": {},
   "source": [
    "# Part I - Ford GoBike System Data Exploration.\n",
    "--- \n",
    "### By Benjamin Adekunle Ojo"
   ]
  },
  {
   "cell_type": "markdown",
   "metadata": {},
   "source": [
    "## Introduction\n",
    "---\n",
    "For the past few years a form of economics and social movement have developed amounge developing and developed economy, this form of economy is know as the Gig Economy for which a quote best define as 'You will Owe Nothing and You'll be Happy' in this system everything is shared by everyone, service is rended to individual as you need them instead of buying the projuct outright. As this form of economy is developing a social movement was also on the rise, a movement that emphase reducing carbon emmission by using bike and other carbon neutral form of transportation. \n",
    "\n",
    "The Ford GoBike System is one of the businesses that rose up to meet this demand, providing bike sharing services to individuals in urban areas. The dataset was provided by Ford Gobike System and it contains activities of customers who made use of Ford GoBike System from 2017 to 2019. The following are features contain in the Dataset: \n",
    "\n",
    "### Ford GoBike Dataset Features:\n",
    " * `bike_id`: Unique string for every bike owed by Ford GoBike.\n",
    " \n",
    " * `duration_sec`: The duration in seconds for each trip.\n",
    " \n",
    " * `start_time`: The time a user started his or her trip.\n",
    " \n",
    " * `end_time`: The time a user ended his or her trip.\n",
    " \n",
    " * `start_station_id`: A unique string for each starting station maintained by ford GoBike.\n",
    " \n",
    " * `start_station_name`: Starting Station name.\n",
    " \n",
    " * `start_station_latitude`: Starting station latitude Location of station.\n",
    " \n",
    " * `start_station_longitude`: Starting longitude location of station.\n",
    " \n",
    " * `end_station_id`: A unique string for each ending station maintained by ford GoBike.\n",
    " \n",
    " * `end_station_name`: End station name.\n",
    " \n",
    " * `end_station_latitude`: End station latitude Location of station.\n",
    " \n",
    " * `end_station_longitude`: End station longitude location of station. \n",
    " \n",
    " * `user_type`: Is the user a customer or subscriber. \n",
    " \n",
    " * `member_birth_year`: Year user created or use a ford Goford account.\n",
    " \n",
    " * `member_gender`: Is the user a Male or Famale.\n",
    " \n",
    " * `bike_share_for_all_trip`: This is a discounted memberships for low-income riders. \n",
    "\n",
    "The aim of this project is to create a series of explorative and explanatory visualization using the Ford GoBike System dataset. This notebook deals with the explorative section of the project, but before commencing with our visaulization we first have to perform preliminary data wrangling. "
   ]
  },
  {
   "cell_type": "markdown",
   "metadata": {},
   "source": [
    "## Preliminary Wrangling"
   ]
  },
  {
   "cell_type": "code",
   "execution_count": 1,
   "metadata": {},
   "outputs": [],
   "source": [
    "# import all packages and set plots to be embedded inline\n",
    "import numpy as np\n",
    "import pandas as pd\n",
    "import matplotlib.pyplot as plt\n",
    "import seaborn as sns\n",
    "\n",
    "%matplotlib inline"
   ]
  },
  {
   "cell_type": "markdown",
   "metadata": {},
   "source": [
    "### Gerthering Data "
   ]
  },
  {
   "cell_type": "code",
   "execution_count": 2,
   "metadata": {},
   "outputs": [],
   "source": [
    "# Loading dataset into Pandas Dataframe\n",
    "gobike_data = pd.read_csv('data/fordgobike.csv')"
   ]
  },
  {
   "cell_type": "code",
   "execution_count": 3,
   "metadata": {},
   "outputs": [
    {
     "data": {
      "text/html": [
       "<div>\n",
       "<style scoped>\n",
       "    .dataframe tbody tr th:only-of-type {\n",
       "        vertical-align: middle;\n",
       "    }\n",
       "\n",
       "    .dataframe tbody tr th {\n",
       "        vertical-align: top;\n",
       "    }\n",
       "\n",
       "    .dataframe thead th {\n",
       "        text-align: right;\n",
       "    }\n",
       "</style>\n",
       "<table border=\"1\" class=\"dataframe\">\n",
       "  <thead>\n",
       "    <tr style=\"text-align: right;\">\n",
       "      <th></th>\n",
       "      <th>duration_sec</th>\n",
       "      <th>start_time</th>\n",
       "      <th>end_time</th>\n",
       "      <th>start_station_id</th>\n",
       "      <th>start_station_name</th>\n",
       "      <th>start_station_latitude</th>\n",
       "      <th>start_station_longitude</th>\n",
       "      <th>end_station_id</th>\n",
       "      <th>end_station_name</th>\n",
       "      <th>end_station_latitude</th>\n",
       "      <th>end_station_longitude</th>\n",
       "      <th>bike_id</th>\n",
       "      <th>user_type</th>\n",
       "      <th>member_birth_year</th>\n",
       "      <th>member_gender</th>\n",
       "      <th>bike_share_for_all_trip</th>\n",
       "    </tr>\n",
       "  </thead>\n",
       "  <tbody>\n",
       "    <tr>\n",
       "      <th>0</th>\n",
       "      <td>52185</td>\n",
       "      <td>2019-02-28 17:32:10.1450</td>\n",
       "      <td>2019-03-01 08:01:55.9750</td>\n",
       "      <td>21.0</td>\n",
       "      <td>Montgomery St BART Station (Market St at 2nd St)</td>\n",
       "      <td>37.789625</td>\n",
       "      <td>-122.400811</td>\n",
       "      <td>13.0</td>\n",
       "      <td>Commercial St at Montgomery St</td>\n",
       "      <td>37.794231</td>\n",
       "      <td>-122.402923</td>\n",
       "      <td>4902</td>\n",
       "      <td>Customer</td>\n",
       "      <td>1984.0</td>\n",
       "      <td>Male</td>\n",
       "      <td>No</td>\n",
       "    </tr>\n",
       "    <tr>\n",
       "      <th>1</th>\n",
       "      <td>42521</td>\n",
       "      <td>2019-02-28 18:53:21.7890</td>\n",
       "      <td>2019-03-01 06:42:03.0560</td>\n",
       "      <td>23.0</td>\n",
       "      <td>The Embarcadero at Steuart St</td>\n",
       "      <td>37.791464</td>\n",
       "      <td>-122.391034</td>\n",
       "      <td>81.0</td>\n",
       "      <td>Berry St at 4th St</td>\n",
       "      <td>37.775880</td>\n",
       "      <td>-122.393170</td>\n",
       "      <td>2535</td>\n",
       "      <td>Customer</td>\n",
       "      <td>NaN</td>\n",
       "      <td>NaN</td>\n",
       "      <td>No</td>\n",
       "    </tr>\n",
       "    <tr>\n",
       "      <th>2</th>\n",
       "      <td>61854</td>\n",
       "      <td>2019-02-28 12:13:13.2180</td>\n",
       "      <td>2019-03-01 05:24:08.1460</td>\n",
       "      <td>86.0</td>\n",
       "      <td>Market St at Dolores St</td>\n",
       "      <td>37.769305</td>\n",
       "      <td>-122.426826</td>\n",
       "      <td>3.0</td>\n",
       "      <td>Powell St BART Station (Market St at 4th St)</td>\n",
       "      <td>37.786375</td>\n",
       "      <td>-122.404904</td>\n",
       "      <td>5905</td>\n",
       "      <td>Customer</td>\n",
       "      <td>1972.0</td>\n",
       "      <td>Male</td>\n",
       "      <td>No</td>\n",
       "    </tr>\n",
       "    <tr>\n",
       "      <th>3</th>\n",
       "      <td>36490</td>\n",
       "      <td>2019-02-28 17:54:26.0100</td>\n",
       "      <td>2019-03-01 04:02:36.8420</td>\n",
       "      <td>375.0</td>\n",
       "      <td>Grove St at Masonic Ave</td>\n",
       "      <td>37.774836</td>\n",
       "      <td>-122.446546</td>\n",
       "      <td>70.0</td>\n",
       "      <td>Central Ave at Fell St</td>\n",
       "      <td>37.773311</td>\n",
       "      <td>-122.444293</td>\n",
       "      <td>6638</td>\n",
       "      <td>Subscriber</td>\n",
       "      <td>1989.0</td>\n",
       "      <td>Other</td>\n",
       "      <td>No</td>\n",
       "    </tr>\n",
       "    <tr>\n",
       "      <th>4</th>\n",
       "      <td>1585</td>\n",
       "      <td>2019-02-28 23:54:18.5490</td>\n",
       "      <td>2019-03-01 00:20:44.0740</td>\n",
       "      <td>7.0</td>\n",
       "      <td>Frank H Ogawa Plaza</td>\n",
       "      <td>37.804562</td>\n",
       "      <td>-122.271738</td>\n",
       "      <td>222.0</td>\n",
       "      <td>10th Ave at E 15th St</td>\n",
       "      <td>37.792714</td>\n",
       "      <td>-122.248780</td>\n",
       "      <td>4898</td>\n",
       "      <td>Subscriber</td>\n",
       "      <td>1974.0</td>\n",
       "      <td>Male</td>\n",
       "      <td>Yes</td>\n",
       "    </tr>\n",
       "  </tbody>\n",
       "</table>\n",
       "</div>"
      ],
      "text/plain": [
       "   duration_sec                start_time                  end_time  \\\n",
       "0         52185  2019-02-28 17:32:10.1450  2019-03-01 08:01:55.9750   \n",
       "1         42521  2019-02-28 18:53:21.7890  2019-03-01 06:42:03.0560   \n",
       "2         61854  2019-02-28 12:13:13.2180  2019-03-01 05:24:08.1460   \n",
       "3         36490  2019-02-28 17:54:26.0100  2019-03-01 04:02:36.8420   \n",
       "4          1585  2019-02-28 23:54:18.5490  2019-03-01 00:20:44.0740   \n",
       "\n",
       "   start_station_id                                start_station_name  \\\n",
       "0              21.0  Montgomery St BART Station (Market St at 2nd St)   \n",
       "1              23.0                     The Embarcadero at Steuart St   \n",
       "2              86.0                           Market St at Dolores St   \n",
       "3             375.0                           Grove St at Masonic Ave   \n",
       "4               7.0                               Frank H Ogawa Plaza   \n",
       "\n",
       "   start_station_latitude  start_station_longitude  end_station_id  \\\n",
       "0               37.789625              -122.400811            13.0   \n",
       "1               37.791464              -122.391034            81.0   \n",
       "2               37.769305              -122.426826             3.0   \n",
       "3               37.774836              -122.446546            70.0   \n",
       "4               37.804562              -122.271738           222.0   \n",
       "\n",
       "                               end_station_name  end_station_latitude  \\\n",
       "0                Commercial St at Montgomery St             37.794231   \n",
       "1                            Berry St at 4th St             37.775880   \n",
       "2  Powell St BART Station (Market St at 4th St)             37.786375   \n",
       "3                        Central Ave at Fell St             37.773311   \n",
       "4                         10th Ave at E 15th St             37.792714   \n",
       "\n",
       "   end_station_longitude  bike_id   user_type  member_birth_year  \\\n",
       "0            -122.402923     4902    Customer             1984.0   \n",
       "1            -122.393170     2535    Customer                NaN   \n",
       "2            -122.404904     5905    Customer             1972.0   \n",
       "3            -122.444293     6638  Subscriber             1989.0   \n",
       "4            -122.248780     4898  Subscriber             1974.0   \n",
       "\n",
       "  member_gender bike_share_for_all_trip  \n",
       "0          Male                      No  \n",
       "1           NaN                      No  \n",
       "2          Male                      No  \n",
       "3         Other                      No  \n",
       "4          Male                     Yes  "
      ]
     },
     "execution_count": 3,
     "metadata": {},
     "output_type": "execute_result"
    }
   ],
   "source": [
    "# Brief Highlight of Dataset\n",
    "gobike_data.head()"
   ]
  },
  {
   "cell_type": "markdown",
   "metadata": {},
   "source": [
    "### Data Assessment "
   ]
  },
  {
   "cell_type": "code",
   "execution_count": 4,
   "metadata": {},
   "outputs": [
    {
     "data": {
      "text/html": [
       "<div>\n",
       "<style scoped>\n",
       "    .dataframe tbody tr th:only-of-type {\n",
       "        vertical-align: middle;\n",
       "    }\n",
       "\n",
       "    .dataframe tbody tr th {\n",
       "        vertical-align: top;\n",
       "    }\n",
       "\n",
       "    .dataframe thead th {\n",
       "        text-align: right;\n",
       "    }\n",
       "</style>\n",
       "<table border=\"1\" class=\"dataframe\">\n",
       "  <thead>\n",
       "    <tr style=\"text-align: right;\">\n",
       "      <th></th>\n",
       "      <th>duration_sec</th>\n",
       "      <th>start_time</th>\n",
       "      <th>end_time</th>\n",
       "      <th>start_station_id</th>\n",
       "      <th>start_station_name</th>\n",
       "      <th>start_station_latitude</th>\n",
       "      <th>start_station_longitude</th>\n",
       "      <th>end_station_id</th>\n",
       "      <th>end_station_name</th>\n",
       "      <th>end_station_latitude</th>\n",
       "      <th>end_station_longitude</th>\n",
       "      <th>bike_id</th>\n",
       "      <th>user_type</th>\n",
       "      <th>member_birth_year</th>\n",
       "      <th>member_gender</th>\n",
       "      <th>bike_share_for_all_trip</th>\n",
       "    </tr>\n",
       "  </thead>\n",
       "  <tbody>\n",
       "    <tr>\n",
       "      <th>26284</th>\n",
       "      <td>1017</td>\n",
       "      <td>2019-02-25 12:48:03.4470</td>\n",
       "      <td>2019-02-25 13:05:00.8810</td>\n",
       "      <td>350.0</td>\n",
       "      <td>8th St at Brannan St</td>\n",
       "      <td>37.771431</td>\n",
       "      <td>-122.405787</td>\n",
       "      <td>17.0</td>\n",
       "      <td>Embarcadero BART Station (Beale St at Market St)</td>\n",
       "      <td>37.792251</td>\n",
       "      <td>-122.397086</td>\n",
       "      <td>5250</td>\n",
       "      <td>Customer</td>\n",
       "      <td>1994.0</td>\n",
       "      <td>Female</td>\n",
       "      <td>No</td>\n",
       "    </tr>\n",
       "    <tr>\n",
       "      <th>84523</th>\n",
       "      <td>1182</td>\n",
       "      <td>2019-02-17 17:11:26.5170</td>\n",
       "      <td>2019-02-17 17:31:09.0490</td>\n",
       "      <td>5.0</td>\n",
       "      <td>Powell St BART Station (Market St at 5th St)</td>\n",
       "      <td>37.783899</td>\n",
       "      <td>-122.408445</td>\n",
       "      <td>70.0</td>\n",
       "      <td>Central Ave at Fell St</td>\n",
       "      <td>37.773311</td>\n",
       "      <td>-122.444293</td>\n",
       "      <td>6087</td>\n",
       "      <td>Subscriber</td>\n",
       "      <td>1988.0</td>\n",
       "      <td>Female</td>\n",
       "      <td>No</td>\n",
       "    </tr>\n",
       "    <tr>\n",
       "      <th>60879</th>\n",
       "      <td>308</td>\n",
       "      <td>2019-02-20 18:12:51.1760</td>\n",
       "      <td>2019-02-20 18:17:59.5000</td>\n",
       "      <td>258.0</td>\n",
       "      <td>University Ave at Oxford St</td>\n",
       "      <td>37.872355</td>\n",
       "      <td>-122.266447</td>\n",
       "      <td>251.0</td>\n",
       "      <td>California St at University Ave</td>\n",
       "      <td>37.870555</td>\n",
       "      <td>-122.279720</td>\n",
       "      <td>997</td>\n",
       "      <td>Subscriber</td>\n",
       "      <td>1975.0</td>\n",
       "      <td>Male</td>\n",
       "      <td>No</td>\n",
       "    </tr>\n",
       "    <tr>\n",
       "      <th>152215</th>\n",
       "      <td>183</td>\n",
       "      <td>2019-02-06 16:19:25.1510</td>\n",
       "      <td>2019-02-06 16:22:28.9770</td>\n",
       "      <td>27.0</td>\n",
       "      <td>Beale St at Harrison St</td>\n",
       "      <td>37.788059</td>\n",
       "      <td>-122.391865</td>\n",
       "      <td>17.0</td>\n",
       "      <td>Embarcadero BART Station (Beale St at Market St)</td>\n",
       "      <td>37.792251</td>\n",
       "      <td>-122.397086</td>\n",
       "      <td>4838</td>\n",
       "      <td>Subscriber</td>\n",
       "      <td>1969.0</td>\n",
       "      <td>Male</td>\n",
       "      <td>No</td>\n",
       "    </tr>\n",
       "    <tr>\n",
       "      <th>8122</th>\n",
       "      <td>204</td>\n",
       "      <td>2019-02-28 08:39:55.4890</td>\n",
       "      <td>2019-02-28 08:43:19.9470</td>\n",
       "      <td>215.0</td>\n",
       "      <td>34th St at Telegraph Ave</td>\n",
       "      <td>37.822547</td>\n",
       "      <td>-122.266318</td>\n",
       "      <td>176.0</td>\n",
       "      <td>MacArthur BART Station</td>\n",
       "      <td>37.828410</td>\n",
       "      <td>-122.266315</td>\n",
       "      <td>5678</td>\n",
       "      <td>Subscriber</td>\n",
       "      <td>1995.0</td>\n",
       "      <td>Female</td>\n",
       "      <td>No</td>\n",
       "    </tr>\n",
       "    <tr>\n",
       "      <th>4544</th>\n",
       "      <td>1127</td>\n",
       "      <td>2019-02-28 15:28:22.4350</td>\n",
       "      <td>2019-02-28 15:47:09.5090</td>\n",
       "      <td>5.0</td>\n",
       "      <td>Powell St BART Station (Market St at 5th St)</td>\n",
       "      <td>37.783899</td>\n",
       "      <td>-122.408445</td>\n",
       "      <td>118.0</td>\n",
       "      <td>Eureka Valley Recreation Center</td>\n",
       "      <td>37.759177</td>\n",
       "      <td>-122.436943</td>\n",
       "      <td>4372</td>\n",
       "      <td>Subscriber</td>\n",
       "      <td>1984.0</td>\n",
       "      <td>Male</td>\n",
       "      <td>Yes</td>\n",
       "    </tr>\n",
       "    <tr>\n",
       "      <th>6032</th>\n",
       "      <td>326</td>\n",
       "      <td>2019-02-28 11:26:32.8810</td>\n",
       "      <td>2019-02-28 11:31:59.5760</td>\n",
       "      <td>6.0</td>\n",
       "      <td>The Embarcadero at Sansome St</td>\n",
       "      <td>37.804770</td>\n",
       "      <td>-122.403234</td>\n",
       "      <td>16.0</td>\n",
       "      <td>Steuart St at Market St</td>\n",
       "      <td>37.794130</td>\n",
       "      <td>-122.394430</td>\n",
       "      <td>4370</td>\n",
       "      <td>Subscriber</td>\n",
       "      <td>1980.0</td>\n",
       "      <td>Male</td>\n",
       "      <td>No</td>\n",
       "    </tr>\n",
       "    <tr>\n",
       "      <th>131417</th>\n",
       "      <td>489</td>\n",
       "      <td>2019-02-09 12:52:30.7600</td>\n",
       "      <td>2019-02-09 13:00:40.3720</td>\n",
       "      <td>72.0</td>\n",
       "      <td>Page St at Scott St</td>\n",
       "      <td>37.772406</td>\n",
       "      <td>-122.435650</td>\n",
       "      <td>96.0</td>\n",
       "      <td>Dolores St at 15th St</td>\n",
       "      <td>37.766210</td>\n",
       "      <td>-122.426614</td>\n",
       "      <td>2016</td>\n",
       "      <td>Subscriber</td>\n",
       "      <td>1984.0</td>\n",
       "      <td>Male</td>\n",
       "      <td>No</td>\n",
       "    </tr>\n",
       "    <tr>\n",
       "      <th>32173</th>\n",
       "      <td>260</td>\n",
       "      <td>2019-02-24 15:02:56.7480</td>\n",
       "      <td>2019-02-24 15:07:17.3920</td>\n",
       "      <td>66.0</td>\n",
       "      <td>3rd St at Townsend St</td>\n",
       "      <td>37.778742</td>\n",
       "      <td>-122.392741</td>\n",
       "      <td>27.0</td>\n",
       "      <td>Beale St at Harrison St</td>\n",
       "      <td>37.788059</td>\n",
       "      <td>-122.391865</td>\n",
       "      <td>5377</td>\n",
       "      <td>Subscriber</td>\n",
       "      <td>1942.0</td>\n",
       "      <td>Male</td>\n",
       "      <td>No</td>\n",
       "    </tr>\n",
       "    <tr>\n",
       "      <th>21982</th>\n",
       "      <td>1224</td>\n",
       "      <td>2019-02-26 08:27:34.0650</td>\n",
       "      <td>2019-02-26 08:47:58.9230</td>\n",
       "      <td>377.0</td>\n",
       "      <td>Fell St at Stanyan St</td>\n",
       "      <td>37.771917</td>\n",
       "      <td>-122.453704</td>\n",
       "      <td>19.0</td>\n",
       "      <td>Post St at Kearny St</td>\n",
       "      <td>37.788975</td>\n",
       "      <td>-122.403452</td>\n",
       "      <td>6568</td>\n",
       "      <td>Subscriber</td>\n",
       "      <td>NaN</td>\n",
       "      <td>NaN</td>\n",
       "      <td>No</td>\n",
       "    </tr>\n",
       "  </tbody>\n",
       "</table>\n",
       "</div>"
      ],
      "text/plain": [
       "        duration_sec                start_time                  end_time  \\\n",
       "26284           1017  2019-02-25 12:48:03.4470  2019-02-25 13:05:00.8810   \n",
       "84523           1182  2019-02-17 17:11:26.5170  2019-02-17 17:31:09.0490   \n",
       "60879            308  2019-02-20 18:12:51.1760  2019-02-20 18:17:59.5000   \n",
       "152215           183  2019-02-06 16:19:25.1510  2019-02-06 16:22:28.9770   \n",
       "8122             204  2019-02-28 08:39:55.4890  2019-02-28 08:43:19.9470   \n",
       "4544            1127  2019-02-28 15:28:22.4350  2019-02-28 15:47:09.5090   \n",
       "6032             326  2019-02-28 11:26:32.8810  2019-02-28 11:31:59.5760   \n",
       "131417           489  2019-02-09 12:52:30.7600  2019-02-09 13:00:40.3720   \n",
       "32173            260  2019-02-24 15:02:56.7480  2019-02-24 15:07:17.3920   \n",
       "21982           1224  2019-02-26 08:27:34.0650  2019-02-26 08:47:58.9230   \n",
       "\n",
       "        start_station_id                            start_station_name  \\\n",
       "26284              350.0                          8th St at Brannan St   \n",
       "84523                5.0  Powell St BART Station (Market St at 5th St)   \n",
       "60879              258.0                   University Ave at Oxford St   \n",
       "152215              27.0                       Beale St at Harrison St   \n",
       "8122               215.0                      34th St at Telegraph Ave   \n",
       "4544                 5.0  Powell St BART Station (Market St at 5th St)   \n",
       "6032                 6.0                 The Embarcadero at Sansome St   \n",
       "131417              72.0                           Page St at Scott St   \n",
       "32173               66.0                         3rd St at Townsend St   \n",
       "21982              377.0                         Fell St at Stanyan St   \n",
       "\n",
       "        start_station_latitude  start_station_longitude  end_station_id  \\\n",
       "26284                37.771431              -122.405787            17.0   \n",
       "84523                37.783899              -122.408445            70.0   \n",
       "60879                37.872355              -122.266447           251.0   \n",
       "152215               37.788059              -122.391865            17.0   \n",
       "8122                 37.822547              -122.266318           176.0   \n",
       "4544                 37.783899              -122.408445           118.0   \n",
       "6032                 37.804770              -122.403234            16.0   \n",
       "131417               37.772406              -122.435650            96.0   \n",
       "32173                37.778742              -122.392741            27.0   \n",
       "21982                37.771917              -122.453704            19.0   \n",
       "\n",
       "                                        end_station_name  \\\n",
       "26284   Embarcadero BART Station (Beale St at Market St)   \n",
       "84523                             Central Ave at Fell St   \n",
       "60879                    California St at University Ave   \n",
       "152215  Embarcadero BART Station (Beale St at Market St)   \n",
       "8122                              MacArthur BART Station   \n",
       "4544                     Eureka Valley Recreation Center   \n",
       "6032                             Steuart St at Market St   \n",
       "131417                             Dolores St at 15th St   \n",
       "32173                            Beale St at Harrison St   \n",
       "21982                               Post St at Kearny St   \n",
       "\n",
       "        end_station_latitude  end_station_longitude  bike_id   user_type  \\\n",
       "26284              37.792251            -122.397086     5250    Customer   \n",
       "84523              37.773311            -122.444293     6087  Subscriber   \n",
       "60879              37.870555            -122.279720      997  Subscriber   \n",
       "152215             37.792251            -122.397086     4838  Subscriber   \n",
       "8122               37.828410            -122.266315     5678  Subscriber   \n",
       "4544               37.759177            -122.436943     4372  Subscriber   \n",
       "6032               37.794130            -122.394430     4370  Subscriber   \n",
       "131417             37.766210            -122.426614     2016  Subscriber   \n",
       "32173              37.788059            -122.391865     5377  Subscriber   \n",
       "21982              37.788975            -122.403452     6568  Subscriber   \n",
       "\n",
       "        member_birth_year member_gender bike_share_for_all_trip  \n",
       "26284              1994.0        Female                      No  \n",
       "84523              1988.0        Female                      No  \n",
       "60879              1975.0          Male                      No  \n",
       "152215             1969.0          Male                      No  \n",
       "8122               1995.0        Female                      No  \n",
       "4544               1984.0          Male                     Yes  \n",
       "6032               1980.0          Male                      No  \n",
       "131417             1984.0          Male                      No  \n",
       "32173              1942.0          Male                      No  \n",
       "21982                 NaN           NaN                      No  "
      ]
     },
     "execution_count": 4,
     "metadata": {},
     "output_type": "execute_result"
    }
   ],
   "source": [
    "# Sample highlight of data.\n",
    "gobike_data.sample(10)"
   ]
  },
  {
   "cell_type": "code",
   "execution_count": 5,
   "metadata": {},
   "outputs": [
    {
     "data": {
      "text/plain": [
       "Index(['duration_sec', 'start_time', 'end_time', 'start_station_id',\n",
       "       'start_station_name', 'start_station_latitude',\n",
       "       'start_station_longitude', 'end_station_id', 'end_station_name',\n",
       "       'end_station_latitude', 'end_station_longitude', 'bike_id', 'user_type',\n",
       "       'member_birth_year', 'member_gender', 'bike_share_for_all_trip'],\n",
       "      dtype='object')"
      ]
     },
     "execution_count": 5,
     "metadata": {},
     "output_type": "execute_result"
    }
   ],
   "source": [
    "# Columns \n",
    "gobike_data.columns"
   ]
  },
  {
   "cell_type": "code",
   "execution_count": 6,
   "metadata": {},
   "outputs": [
    {
     "name": "stdout",
     "output_type": "stream",
     "text": [
      "This Ford GoBike dataset has 183412 lines and 16 columns \n",
      "\n",
      "\n",
      "<class 'pandas.core.frame.DataFrame'>\n",
      "RangeIndex: 183412 entries, 0 to 183411\n",
      "Data columns (total 16 columns):\n",
      " #   Column                   Non-Null Count   Dtype  \n",
      "---  ------                   --------------   -----  \n",
      " 0   duration_sec             183412 non-null  int64  \n",
      " 1   start_time               183412 non-null  object \n",
      " 2   end_time                 183412 non-null  object \n",
      " 3   start_station_id         183215 non-null  float64\n",
      " 4   start_station_name       183215 non-null  object \n",
      " 5   start_station_latitude   183412 non-null  float64\n",
      " 6   start_station_longitude  183412 non-null  float64\n",
      " 7   end_station_id           183215 non-null  float64\n",
      " 8   end_station_name         183215 non-null  object \n",
      " 9   end_station_latitude     183412 non-null  float64\n",
      " 10  end_station_longitude    183412 non-null  float64\n",
      " 11  bike_id                  183412 non-null  int64  \n",
      " 12  user_type                183412 non-null  object \n",
      " 13  member_birth_year        175147 non-null  float64\n",
      " 14  member_gender            175147 non-null  object \n",
      " 15  bike_share_for_all_trip  183412 non-null  object \n",
      "dtypes: float64(7), int64(2), object(7)\n",
      "memory usage: 22.4+ MB\n"
     ]
    }
   ],
   "source": [
    "# Print the data shape.\n",
    "print(f\"This Ford GoBike dataset has {gobike_data.shape[0]} lines and {gobike_data.shape[1]} columns\", \"\\n\\n\")\n",
    "\n",
    "# Viewing the data structure. \n",
    "gobike_data.info()"
   ]
  },
  {
   "cell_type": "code",
   "execution_count": 7,
   "metadata": {},
   "outputs": [
    {
     "name": "stdout",
     "output_type": "stream",
     "text": [
      "Are there any Null values in each feature. \n",
      "\n",
      "duration_sec               False\n",
      "start_time                 False\n",
      "end_time                   False\n",
      "start_station_id            True\n",
      "start_station_name          True\n",
      "start_station_latitude     False\n",
      "start_station_longitude    False\n",
      "end_station_id              True\n",
      "end_station_name            True\n",
      "end_station_latitude       False\n",
      "end_station_longitude      False\n",
      "bike_id                    False\n",
      "user_type                  False\n",
      "member_birth_year           True\n",
      "member_gender               True\n",
      "bike_share_for_all_trip    False\n",
      "dtype: bool \n",
      "\n",
      "\n",
      "The number of Null values per features \n",
      "\n",
      "duration_sec                  0\n",
      "start_time                    0\n",
      "end_time                      0\n",
      "start_station_id            197\n",
      "start_station_name          197\n",
      "start_station_latitude        0\n",
      "start_station_longitude       0\n",
      "end_station_id              197\n",
      "end_station_name            197\n",
      "end_station_latitude          0\n",
      "end_station_longitude         0\n",
      "bike_id                       0\n",
      "user_type                     0\n",
      "member_birth_year          8265\n",
      "member_gender              8265\n",
      "bike_share_for_all_trip       0\n",
      "dtype: int64\n"
     ]
    }
   ],
   "source": [
    "# Check for presence of Null values\n",
    "print('Are there any Null values in each feature.', '\\n')\n",
    "print( gobike_data.isna().any(), '\\n\\n') \n",
    "\n",
    "# Number of Null values per features\n",
    "print('The number of Null values per features', '\\n')\n",
    "print(f'{gobike_data.isna().sum()}')"
   ]
  },
  {
   "cell_type": "code",
   "execution_count": 8,
   "metadata": {
    "scrolled": true
   },
   "outputs": [
    {
     "data": {
      "text/html": [
       "<div>\n",
       "<style scoped>\n",
       "    .dataframe tbody tr th:only-of-type {\n",
       "        vertical-align: middle;\n",
       "    }\n",
       "\n",
       "    .dataframe tbody tr th {\n",
       "        vertical-align: top;\n",
       "    }\n",
       "\n",
       "    .dataframe thead th {\n",
       "        text-align: right;\n",
       "    }\n",
       "</style>\n",
       "<table border=\"1\" class=\"dataframe\">\n",
       "  <thead>\n",
       "    <tr style=\"text-align: right;\">\n",
       "      <th></th>\n",
       "      <th>duration_sec</th>\n",
       "      <th>start_station_id</th>\n",
       "      <th>start_station_latitude</th>\n",
       "      <th>start_station_longitude</th>\n",
       "      <th>end_station_id</th>\n",
       "      <th>end_station_latitude</th>\n",
       "      <th>end_station_longitude</th>\n",
       "      <th>bike_id</th>\n",
       "      <th>member_birth_year</th>\n",
       "    </tr>\n",
       "  </thead>\n",
       "  <tbody>\n",
       "    <tr>\n",
       "      <th>count</th>\n",
       "      <td>183412.000000</td>\n",
       "      <td>183215.000000</td>\n",
       "      <td>183412.000000</td>\n",
       "      <td>183412.000000</td>\n",
       "      <td>183215.000000</td>\n",
       "      <td>183412.000000</td>\n",
       "      <td>183412.000000</td>\n",
       "      <td>183412.000000</td>\n",
       "      <td>175147.000000</td>\n",
       "    </tr>\n",
       "    <tr>\n",
       "      <th>mean</th>\n",
       "      <td>726.078435</td>\n",
       "      <td>138.590427</td>\n",
       "      <td>37.771223</td>\n",
       "      <td>-122.352664</td>\n",
       "      <td>136.249123</td>\n",
       "      <td>37.771427</td>\n",
       "      <td>-122.352250</td>\n",
       "      <td>4472.906375</td>\n",
       "      <td>1984.806437</td>\n",
       "    </tr>\n",
       "    <tr>\n",
       "      <th>std</th>\n",
       "      <td>1794.389780</td>\n",
       "      <td>111.778864</td>\n",
       "      <td>0.099581</td>\n",
       "      <td>0.117097</td>\n",
       "      <td>111.515131</td>\n",
       "      <td>0.099490</td>\n",
       "      <td>0.116673</td>\n",
       "      <td>1664.383394</td>\n",
       "      <td>10.116689</td>\n",
       "    </tr>\n",
       "    <tr>\n",
       "      <th>min</th>\n",
       "      <td>61.000000</td>\n",
       "      <td>3.000000</td>\n",
       "      <td>37.317298</td>\n",
       "      <td>-122.453704</td>\n",
       "      <td>3.000000</td>\n",
       "      <td>37.317298</td>\n",
       "      <td>-122.453704</td>\n",
       "      <td>11.000000</td>\n",
       "      <td>1878.000000</td>\n",
       "    </tr>\n",
       "    <tr>\n",
       "      <th>25%</th>\n",
       "      <td>325.000000</td>\n",
       "      <td>47.000000</td>\n",
       "      <td>37.770083</td>\n",
       "      <td>-122.412408</td>\n",
       "      <td>44.000000</td>\n",
       "      <td>37.770407</td>\n",
       "      <td>-122.411726</td>\n",
       "      <td>3777.000000</td>\n",
       "      <td>1980.000000</td>\n",
       "    </tr>\n",
       "    <tr>\n",
       "      <th>50%</th>\n",
       "      <td>514.000000</td>\n",
       "      <td>104.000000</td>\n",
       "      <td>37.780760</td>\n",
       "      <td>-122.398285</td>\n",
       "      <td>100.000000</td>\n",
       "      <td>37.781010</td>\n",
       "      <td>-122.398279</td>\n",
       "      <td>4958.000000</td>\n",
       "      <td>1987.000000</td>\n",
       "    </tr>\n",
       "    <tr>\n",
       "      <th>75%</th>\n",
       "      <td>796.000000</td>\n",
       "      <td>239.000000</td>\n",
       "      <td>37.797280</td>\n",
       "      <td>-122.286533</td>\n",
       "      <td>235.000000</td>\n",
       "      <td>37.797320</td>\n",
       "      <td>-122.288045</td>\n",
       "      <td>5502.000000</td>\n",
       "      <td>1992.000000</td>\n",
       "    </tr>\n",
       "    <tr>\n",
       "      <th>max</th>\n",
       "      <td>85444.000000</td>\n",
       "      <td>398.000000</td>\n",
       "      <td>37.880222</td>\n",
       "      <td>-121.874119</td>\n",
       "      <td>398.000000</td>\n",
       "      <td>37.880222</td>\n",
       "      <td>-121.874119</td>\n",
       "      <td>6645.000000</td>\n",
       "      <td>2001.000000</td>\n",
       "    </tr>\n",
       "  </tbody>\n",
       "</table>\n",
       "</div>"
      ],
      "text/plain": [
       "        duration_sec  start_station_id  start_station_latitude  \\\n",
       "count  183412.000000     183215.000000           183412.000000   \n",
       "mean      726.078435        138.590427               37.771223   \n",
       "std      1794.389780        111.778864                0.099581   \n",
       "min        61.000000          3.000000               37.317298   \n",
       "25%       325.000000         47.000000               37.770083   \n",
       "50%       514.000000        104.000000               37.780760   \n",
       "75%       796.000000        239.000000               37.797280   \n",
       "max     85444.000000        398.000000               37.880222   \n",
       "\n",
       "       start_station_longitude  end_station_id  end_station_latitude  \\\n",
       "count            183412.000000   183215.000000         183412.000000   \n",
       "mean               -122.352664      136.249123             37.771427   \n",
       "std                   0.117097      111.515131              0.099490   \n",
       "min                -122.453704        3.000000             37.317298   \n",
       "25%                -122.412408       44.000000             37.770407   \n",
       "50%                -122.398285      100.000000             37.781010   \n",
       "75%                -122.286533      235.000000             37.797320   \n",
       "max                -121.874119      398.000000             37.880222   \n",
       "\n",
       "       end_station_longitude        bike_id  member_birth_year  \n",
       "count          183412.000000  183412.000000      175147.000000  \n",
       "mean             -122.352250    4472.906375        1984.806437  \n",
       "std                 0.116673    1664.383394          10.116689  \n",
       "min              -122.453704      11.000000        1878.000000  \n",
       "25%              -122.411726    3777.000000        1980.000000  \n",
       "50%              -122.398279    4958.000000        1987.000000  \n",
       "75%              -122.288045    5502.000000        1992.000000  \n",
       "max              -121.874119    6645.000000        2001.000000  "
      ]
     },
     "execution_count": 8,
     "metadata": {},
     "output_type": "execute_result"
    }
   ],
   "source": [
    "# Statistical value of each feature\n",
    "gobike_data.describe()"
   ]
  },
  {
   "cell_type": "code",
   "execution_count": 9,
   "metadata": {},
   "outputs": [
    {
     "name": "stdout",
     "output_type": "stream",
     "text": [
      "There are 0 duplicates in our data\n"
     ]
    }
   ],
   "source": [
    "# Checking for dupliacate values\n",
    "print(f'There are {gobike_data.duplicated().sum()} duplicates in our data')"
   ]
  },
  {
   "cell_type": "code",
   "execution_count": 10,
   "metadata": {},
   "outputs": [
    {
     "name": "stdout",
     "output_type": "stream",
     "text": [
      "\n",
      " The following are variables that makes up the user_type feature.\n",
      "\t ['Customer' 'Subscriber']\n",
      "\n",
      " The following are variables that makes up the member_gender feature.\n",
      "\t ['Male' nan 'Other' 'Female']\n",
      "\n",
      " The following are variables that makes up the bike_share_for_all_trip feature.\n",
      "\t ['No' 'Yes']\n"
     ]
    }
   ],
   "source": [
    "# Viewing the unique values of each column \n",
    "\n",
    "# Storing all the column title in a list\n",
    "col = gobike_data.columns\n",
    "\n",
    "# Using a for loop to check for the number of unique value \n",
    "# in each column and anyone greater than 20 will be remove. \n",
    "\n",
    "for i in range(len(col)): \n",
    "    column = col[i]\n",
    "    num_uni = gobike_data[column].nunique()\n",
    "    if num_uni > 20: \n",
    "        continue \n",
    "    else: \n",
    "        print(\"\\n\", f\"The following are variables that makes up the {column} feature.\")\n",
    "        print('\\t', gobike_data[column].unique())"
   ]
  },
  {
   "cell_type": "markdown",
   "metadata": {},
   "source": [
    "#### Observation from assessment: \n",
    "1. Drop Null values present in the data set. \n",
    "\n",
    "\n",
    "2. Convert feature data type that are incorrect. \n",
    "    * Converting `start_station_id`, `end_station_id`, and `bike_id` from float/int to str.\n",
    "    \n",
    "    * Converting `user_type`, and `member_gender` from object to categorical dtype.\n",
    "    \n",
    "    * Converting `start_time`, `member_birth_year`, and `end_time` to datetime.\n",
    "    \n",
    "    * Converting `bike_share_for_all_trip` from object to bool.\n",
    "    \n",
    "    \n",
    "3. Drop columns that aren't useful to our analysis.\n",
    "\n",
    "\n",
    "4. Converting the duration_sec column from second to minute. "
   ]
  },
  {
   "cell_type": "markdown",
   "metadata": {},
   "source": [
    "### Data Cleaning"
   ]
  },
  {
   "cell_type": "code",
   "execution_count": 11,
   "metadata": {},
   "outputs": [
    {
     "data": {
      "text/html": [
       "<div>\n",
       "<style scoped>\n",
       "    .dataframe tbody tr th:only-of-type {\n",
       "        vertical-align: middle;\n",
       "    }\n",
       "\n",
       "    .dataframe tbody tr th {\n",
       "        vertical-align: top;\n",
       "    }\n",
       "\n",
       "    .dataframe thead th {\n",
       "        text-align: right;\n",
       "    }\n",
       "</style>\n",
       "<table border=\"1\" class=\"dataframe\">\n",
       "  <thead>\n",
       "    <tr style=\"text-align: right;\">\n",
       "      <th></th>\n",
       "      <th>duration_sec</th>\n",
       "      <th>start_time</th>\n",
       "      <th>end_time</th>\n",
       "      <th>start_station_id</th>\n",
       "      <th>start_station_name</th>\n",
       "      <th>start_station_latitude</th>\n",
       "      <th>start_station_longitude</th>\n",
       "      <th>end_station_id</th>\n",
       "      <th>end_station_name</th>\n",
       "      <th>end_station_latitude</th>\n",
       "      <th>end_station_longitude</th>\n",
       "      <th>bike_id</th>\n",
       "      <th>user_type</th>\n",
       "      <th>member_birth_year</th>\n",
       "      <th>member_gender</th>\n",
       "      <th>bike_share_for_all_trip</th>\n",
       "    </tr>\n",
       "  </thead>\n",
       "  <tbody>\n",
       "    <tr>\n",
       "      <th>0</th>\n",
       "      <td>52185</td>\n",
       "      <td>2019-02-28 17:32:10.1450</td>\n",
       "      <td>2019-03-01 08:01:55.9750</td>\n",
       "      <td>21.0</td>\n",
       "      <td>Montgomery St BART Station (Market St at 2nd St)</td>\n",
       "      <td>37.789625</td>\n",
       "      <td>-122.400811</td>\n",
       "      <td>13.0</td>\n",
       "      <td>Commercial St at Montgomery St</td>\n",
       "      <td>37.794231</td>\n",
       "      <td>-122.402923</td>\n",
       "      <td>4902</td>\n",
       "      <td>Customer</td>\n",
       "      <td>1984.0</td>\n",
       "      <td>Male</td>\n",
       "      <td>No</td>\n",
       "    </tr>\n",
       "    <tr>\n",
       "      <th>1</th>\n",
       "      <td>42521</td>\n",
       "      <td>2019-02-28 18:53:21.7890</td>\n",
       "      <td>2019-03-01 06:42:03.0560</td>\n",
       "      <td>23.0</td>\n",
       "      <td>The Embarcadero at Steuart St</td>\n",
       "      <td>37.791464</td>\n",
       "      <td>-122.391034</td>\n",
       "      <td>81.0</td>\n",
       "      <td>Berry St at 4th St</td>\n",
       "      <td>37.775880</td>\n",
       "      <td>-122.393170</td>\n",
       "      <td>2535</td>\n",
       "      <td>Customer</td>\n",
       "      <td>NaN</td>\n",
       "      <td>NaN</td>\n",
       "      <td>No</td>\n",
       "    </tr>\n",
       "    <tr>\n",
       "      <th>2</th>\n",
       "      <td>61854</td>\n",
       "      <td>2019-02-28 12:13:13.2180</td>\n",
       "      <td>2019-03-01 05:24:08.1460</td>\n",
       "      <td>86.0</td>\n",
       "      <td>Market St at Dolores St</td>\n",
       "      <td>37.769305</td>\n",
       "      <td>-122.426826</td>\n",
       "      <td>3.0</td>\n",
       "      <td>Powell St BART Station (Market St at 4th St)</td>\n",
       "      <td>37.786375</td>\n",
       "      <td>-122.404904</td>\n",
       "      <td>5905</td>\n",
       "      <td>Customer</td>\n",
       "      <td>1972.0</td>\n",
       "      <td>Male</td>\n",
       "      <td>No</td>\n",
       "    </tr>\n",
       "    <tr>\n",
       "      <th>3</th>\n",
       "      <td>36490</td>\n",
       "      <td>2019-02-28 17:54:26.0100</td>\n",
       "      <td>2019-03-01 04:02:36.8420</td>\n",
       "      <td>375.0</td>\n",
       "      <td>Grove St at Masonic Ave</td>\n",
       "      <td>37.774836</td>\n",
       "      <td>-122.446546</td>\n",
       "      <td>70.0</td>\n",
       "      <td>Central Ave at Fell St</td>\n",
       "      <td>37.773311</td>\n",
       "      <td>-122.444293</td>\n",
       "      <td>6638</td>\n",
       "      <td>Subscriber</td>\n",
       "      <td>1989.0</td>\n",
       "      <td>Other</td>\n",
       "      <td>No</td>\n",
       "    </tr>\n",
       "    <tr>\n",
       "      <th>4</th>\n",
       "      <td>1585</td>\n",
       "      <td>2019-02-28 23:54:18.5490</td>\n",
       "      <td>2019-03-01 00:20:44.0740</td>\n",
       "      <td>7.0</td>\n",
       "      <td>Frank H Ogawa Plaza</td>\n",
       "      <td>37.804562</td>\n",
       "      <td>-122.271738</td>\n",
       "      <td>222.0</td>\n",
       "      <td>10th Ave at E 15th St</td>\n",
       "      <td>37.792714</td>\n",
       "      <td>-122.248780</td>\n",
       "      <td>4898</td>\n",
       "      <td>Subscriber</td>\n",
       "      <td>1974.0</td>\n",
       "      <td>Male</td>\n",
       "      <td>Yes</td>\n",
       "    </tr>\n",
       "  </tbody>\n",
       "</table>\n",
       "</div>"
      ],
      "text/plain": [
       "   duration_sec                start_time                  end_time  \\\n",
       "0         52185  2019-02-28 17:32:10.1450  2019-03-01 08:01:55.9750   \n",
       "1         42521  2019-02-28 18:53:21.7890  2019-03-01 06:42:03.0560   \n",
       "2         61854  2019-02-28 12:13:13.2180  2019-03-01 05:24:08.1460   \n",
       "3         36490  2019-02-28 17:54:26.0100  2019-03-01 04:02:36.8420   \n",
       "4          1585  2019-02-28 23:54:18.5490  2019-03-01 00:20:44.0740   \n",
       "\n",
       "   start_station_id                                start_station_name  \\\n",
       "0              21.0  Montgomery St BART Station (Market St at 2nd St)   \n",
       "1              23.0                     The Embarcadero at Steuart St   \n",
       "2              86.0                           Market St at Dolores St   \n",
       "3             375.0                           Grove St at Masonic Ave   \n",
       "4               7.0                               Frank H Ogawa Plaza   \n",
       "\n",
       "   start_station_latitude  start_station_longitude  end_station_id  \\\n",
       "0               37.789625              -122.400811            13.0   \n",
       "1               37.791464              -122.391034            81.0   \n",
       "2               37.769305              -122.426826             3.0   \n",
       "3               37.774836              -122.446546            70.0   \n",
       "4               37.804562              -122.271738           222.0   \n",
       "\n",
       "                               end_station_name  end_station_latitude  \\\n",
       "0                Commercial St at Montgomery St             37.794231   \n",
       "1                            Berry St at 4th St             37.775880   \n",
       "2  Powell St BART Station (Market St at 4th St)             37.786375   \n",
       "3                        Central Ave at Fell St             37.773311   \n",
       "4                         10th Ave at E 15th St             37.792714   \n",
       "\n",
       "   end_station_longitude  bike_id   user_type  member_birth_year  \\\n",
       "0            -122.402923     4902    Customer             1984.0   \n",
       "1            -122.393170     2535    Customer                NaN   \n",
       "2            -122.404904     5905    Customer             1972.0   \n",
       "3            -122.444293     6638  Subscriber             1989.0   \n",
       "4            -122.248780     4898  Subscriber             1974.0   \n",
       "\n",
       "  member_gender bike_share_for_all_trip  \n",
       "0          Male                      No  \n",
       "1           NaN                      No  \n",
       "2          Male                      No  \n",
       "3         Other                      No  \n",
       "4          Male                     Yes  "
      ]
     },
     "execution_count": 11,
     "metadata": {},
     "output_type": "execute_result"
    }
   ],
   "source": [
    "# Making a copy of the data. \n",
    "gobike_copy = gobike_data.copy()\n",
    "\n",
    "# Viewing the copy dataset. \n",
    "gobike_copy.head()"
   ]
  },
  {
   "cell_type": "markdown",
   "metadata": {},
   "source": [
    "#### `Issue #1`: Drop Null values present in the dataset. "
   ]
  },
  {
   "cell_type": "markdown",
   "metadata": {},
   "source": [
    "##### Define:  `\n",
    " * Using the dropna() function we will be removing null values present in our dataset "
   ]
  },
  {
   "cell_type": "markdown",
   "metadata": {},
   "source": [
    "##### Code:"
   ]
  },
  {
   "cell_type": "code",
   "execution_count": 12,
   "metadata": {
    "scrolled": true
   },
   "outputs": [
    {
     "data": {
      "text/plain": [
       "duration_sec                  0\n",
       "start_time                    0\n",
       "end_time                      0\n",
       "start_station_id            197\n",
       "start_station_name          197\n",
       "start_station_latitude        0\n",
       "start_station_longitude       0\n",
       "end_station_id              197\n",
       "end_station_name            197\n",
       "end_station_latitude          0\n",
       "end_station_longitude         0\n",
       "bike_id                       0\n",
       "user_type                     0\n",
       "member_birth_year          8265\n",
       "member_gender              8265\n",
       "bike_share_for_all_trip       0\n",
       "dtype: int64"
      ]
     },
     "execution_count": 12,
     "metadata": {},
     "output_type": "execute_result"
    }
   ],
   "source": [
    "# Viewing the null values present in each column. \n",
    "gobike_copy.isna().sum()"
   ]
  },
  {
   "cell_type": "code",
   "execution_count": 13,
   "metadata": {},
   "outputs": [
    {
     "data": {
      "text/html": [
       "<div>\n",
       "<style scoped>\n",
       "    .dataframe tbody tr th:only-of-type {\n",
       "        vertical-align: middle;\n",
       "    }\n",
       "\n",
       "    .dataframe tbody tr th {\n",
       "        vertical-align: top;\n",
       "    }\n",
       "\n",
       "    .dataframe thead th {\n",
       "        text-align: right;\n",
       "    }\n",
       "</style>\n",
       "<table border=\"1\" class=\"dataframe\">\n",
       "  <thead>\n",
       "    <tr style=\"text-align: right;\">\n",
       "      <th></th>\n",
       "      <th>duration_sec</th>\n",
       "      <th>start_time</th>\n",
       "      <th>end_time</th>\n",
       "      <th>start_station_id</th>\n",
       "      <th>start_station_name</th>\n",
       "      <th>start_station_latitude</th>\n",
       "      <th>start_station_longitude</th>\n",
       "      <th>end_station_id</th>\n",
       "      <th>end_station_name</th>\n",
       "      <th>end_station_latitude</th>\n",
       "      <th>end_station_longitude</th>\n",
       "      <th>bike_id</th>\n",
       "      <th>user_type</th>\n",
       "      <th>member_birth_year</th>\n",
       "      <th>member_gender</th>\n",
       "      <th>bike_share_for_all_trip</th>\n",
       "    </tr>\n",
       "  </thead>\n",
       "  <tbody>\n",
       "    <tr>\n",
       "      <th>0</th>\n",
       "      <td>52185</td>\n",
       "      <td>2019-02-28 17:32:10.1450</td>\n",
       "      <td>2019-03-01 08:01:55.9750</td>\n",
       "      <td>21.0</td>\n",
       "      <td>Montgomery St BART Station (Market St at 2nd St)</td>\n",
       "      <td>37.789625</td>\n",
       "      <td>-122.400811</td>\n",
       "      <td>13.0</td>\n",
       "      <td>Commercial St at Montgomery St</td>\n",
       "      <td>37.794231</td>\n",
       "      <td>-122.402923</td>\n",
       "      <td>4902</td>\n",
       "      <td>Customer</td>\n",
       "      <td>1984.0</td>\n",
       "      <td>Male</td>\n",
       "      <td>No</td>\n",
       "    </tr>\n",
       "    <tr>\n",
       "      <th>2</th>\n",
       "      <td>61854</td>\n",
       "      <td>2019-02-28 12:13:13.2180</td>\n",
       "      <td>2019-03-01 05:24:08.1460</td>\n",
       "      <td>86.0</td>\n",
       "      <td>Market St at Dolores St</td>\n",
       "      <td>37.769305</td>\n",
       "      <td>-122.426826</td>\n",
       "      <td>3.0</td>\n",
       "      <td>Powell St BART Station (Market St at 4th St)</td>\n",
       "      <td>37.786375</td>\n",
       "      <td>-122.404904</td>\n",
       "      <td>5905</td>\n",
       "      <td>Customer</td>\n",
       "      <td>1972.0</td>\n",
       "      <td>Male</td>\n",
       "      <td>No</td>\n",
       "    </tr>\n",
       "    <tr>\n",
       "      <th>3</th>\n",
       "      <td>36490</td>\n",
       "      <td>2019-02-28 17:54:26.0100</td>\n",
       "      <td>2019-03-01 04:02:36.8420</td>\n",
       "      <td>375.0</td>\n",
       "      <td>Grove St at Masonic Ave</td>\n",
       "      <td>37.774836</td>\n",
       "      <td>-122.446546</td>\n",
       "      <td>70.0</td>\n",
       "      <td>Central Ave at Fell St</td>\n",
       "      <td>37.773311</td>\n",
       "      <td>-122.444293</td>\n",
       "      <td>6638</td>\n",
       "      <td>Subscriber</td>\n",
       "      <td>1989.0</td>\n",
       "      <td>Other</td>\n",
       "      <td>No</td>\n",
       "    </tr>\n",
       "    <tr>\n",
       "      <th>4</th>\n",
       "      <td>1585</td>\n",
       "      <td>2019-02-28 23:54:18.5490</td>\n",
       "      <td>2019-03-01 00:20:44.0740</td>\n",
       "      <td>7.0</td>\n",
       "      <td>Frank H Ogawa Plaza</td>\n",
       "      <td>37.804562</td>\n",
       "      <td>-122.271738</td>\n",
       "      <td>222.0</td>\n",
       "      <td>10th Ave at E 15th St</td>\n",
       "      <td>37.792714</td>\n",
       "      <td>-122.248780</td>\n",
       "      <td>4898</td>\n",
       "      <td>Subscriber</td>\n",
       "      <td>1974.0</td>\n",
       "      <td>Male</td>\n",
       "      <td>Yes</td>\n",
       "    </tr>\n",
       "    <tr>\n",
       "      <th>5</th>\n",
       "      <td>1793</td>\n",
       "      <td>2019-02-28 23:49:58.6320</td>\n",
       "      <td>2019-03-01 00:19:51.7600</td>\n",
       "      <td>93.0</td>\n",
       "      <td>4th St at Mission Bay Blvd S</td>\n",
       "      <td>37.770407</td>\n",
       "      <td>-122.391198</td>\n",
       "      <td>323.0</td>\n",
       "      <td>Broadway at Kearny</td>\n",
       "      <td>37.798014</td>\n",
       "      <td>-122.405950</td>\n",
       "      <td>5200</td>\n",
       "      <td>Subscriber</td>\n",
       "      <td>1959.0</td>\n",
       "      <td>Male</td>\n",
       "      <td>No</td>\n",
       "    </tr>\n",
       "    <tr>\n",
       "      <th>...</th>\n",
       "      <td>...</td>\n",
       "      <td>...</td>\n",
       "      <td>...</td>\n",
       "      <td>...</td>\n",
       "      <td>...</td>\n",
       "      <td>...</td>\n",
       "      <td>...</td>\n",
       "      <td>...</td>\n",
       "      <td>...</td>\n",
       "      <td>...</td>\n",
       "      <td>...</td>\n",
       "      <td>...</td>\n",
       "      <td>...</td>\n",
       "      <td>...</td>\n",
       "      <td>...</td>\n",
       "      <td>...</td>\n",
       "    </tr>\n",
       "    <tr>\n",
       "      <th>183407</th>\n",
       "      <td>480</td>\n",
       "      <td>2019-02-01 00:04:49.7240</td>\n",
       "      <td>2019-02-01 00:12:50.0340</td>\n",
       "      <td>27.0</td>\n",
       "      <td>Beale St at Harrison St</td>\n",
       "      <td>37.788059</td>\n",
       "      <td>-122.391865</td>\n",
       "      <td>324.0</td>\n",
       "      <td>Union Square (Powell St at Post St)</td>\n",
       "      <td>37.788300</td>\n",
       "      <td>-122.408531</td>\n",
       "      <td>4832</td>\n",
       "      <td>Subscriber</td>\n",
       "      <td>1996.0</td>\n",
       "      <td>Male</td>\n",
       "      <td>No</td>\n",
       "    </tr>\n",
       "    <tr>\n",
       "      <th>183408</th>\n",
       "      <td>313</td>\n",
       "      <td>2019-02-01 00:05:34.7440</td>\n",
       "      <td>2019-02-01 00:10:48.5020</td>\n",
       "      <td>21.0</td>\n",
       "      <td>Montgomery St BART Station (Market St at 2nd St)</td>\n",
       "      <td>37.789625</td>\n",
       "      <td>-122.400811</td>\n",
       "      <td>66.0</td>\n",
       "      <td>3rd St at Townsend St</td>\n",
       "      <td>37.778742</td>\n",
       "      <td>-122.392741</td>\n",
       "      <td>4960</td>\n",
       "      <td>Subscriber</td>\n",
       "      <td>1984.0</td>\n",
       "      <td>Male</td>\n",
       "      <td>No</td>\n",
       "    </tr>\n",
       "    <tr>\n",
       "      <th>183409</th>\n",
       "      <td>141</td>\n",
       "      <td>2019-02-01 00:06:05.5490</td>\n",
       "      <td>2019-02-01 00:08:27.2200</td>\n",
       "      <td>278.0</td>\n",
       "      <td>The Alameda at Bush St</td>\n",
       "      <td>37.331932</td>\n",
       "      <td>-121.904888</td>\n",
       "      <td>277.0</td>\n",
       "      <td>Morrison Ave at Julian St</td>\n",
       "      <td>37.333658</td>\n",
       "      <td>-121.908586</td>\n",
       "      <td>3824</td>\n",
       "      <td>Subscriber</td>\n",
       "      <td>1990.0</td>\n",
       "      <td>Male</td>\n",
       "      <td>Yes</td>\n",
       "    </tr>\n",
       "    <tr>\n",
       "      <th>183410</th>\n",
       "      <td>139</td>\n",
       "      <td>2019-02-01 00:05:34.3600</td>\n",
       "      <td>2019-02-01 00:07:54.2870</td>\n",
       "      <td>220.0</td>\n",
       "      <td>San Pablo Ave at MLK Jr Way</td>\n",
       "      <td>37.811351</td>\n",
       "      <td>-122.273422</td>\n",
       "      <td>216.0</td>\n",
       "      <td>San Pablo Ave at 27th St</td>\n",
       "      <td>37.817827</td>\n",
       "      <td>-122.275698</td>\n",
       "      <td>5095</td>\n",
       "      <td>Subscriber</td>\n",
       "      <td>1988.0</td>\n",
       "      <td>Male</td>\n",
       "      <td>No</td>\n",
       "    </tr>\n",
       "    <tr>\n",
       "      <th>183411</th>\n",
       "      <td>271</td>\n",
       "      <td>2019-02-01 00:00:20.6360</td>\n",
       "      <td>2019-02-01 00:04:52.0580</td>\n",
       "      <td>24.0</td>\n",
       "      <td>Spear St at Folsom St</td>\n",
       "      <td>37.789677</td>\n",
       "      <td>-122.390428</td>\n",
       "      <td>37.0</td>\n",
       "      <td>2nd St at Folsom St</td>\n",
       "      <td>37.785000</td>\n",
       "      <td>-122.395936</td>\n",
       "      <td>1057</td>\n",
       "      <td>Subscriber</td>\n",
       "      <td>1989.0</td>\n",
       "      <td>Male</td>\n",
       "      <td>No</td>\n",
       "    </tr>\n",
       "  </tbody>\n",
       "</table>\n",
       "<p>174952 rows × 16 columns</p>\n",
       "</div>"
      ],
      "text/plain": [
       "        duration_sec                start_time                  end_time  \\\n",
       "0              52185  2019-02-28 17:32:10.1450  2019-03-01 08:01:55.9750   \n",
       "2              61854  2019-02-28 12:13:13.2180  2019-03-01 05:24:08.1460   \n",
       "3              36490  2019-02-28 17:54:26.0100  2019-03-01 04:02:36.8420   \n",
       "4               1585  2019-02-28 23:54:18.5490  2019-03-01 00:20:44.0740   \n",
       "5               1793  2019-02-28 23:49:58.6320  2019-03-01 00:19:51.7600   \n",
       "...              ...                       ...                       ...   \n",
       "183407           480  2019-02-01 00:04:49.7240  2019-02-01 00:12:50.0340   \n",
       "183408           313  2019-02-01 00:05:34.7440  2019-02-01 00:10:48.5020   \n",
       "183409           141  2019-02-01 00:06:05.5490  2019-02-01 00:08:27.2200   \n",
       "183410           139  2019-02-01 00:05:34.3600  2019-02-01 00:07:54.2870   \n",
       "183411           271  2019-02-01 00:00:20.6360  2019-02-01 00:04:52.0580   \n",
       "\n",
       "        start_station_id                                start_station_name  \\\n",
       "0                   21.0  Montgomery St BART Station (Market St at 2nd St)   \n",
       "2                   86.0                           Market St at Dolores St   \n",
       "3                  375.0                           Grove St at Masonic Ave   \n",
       "4                    7.0                               Frank H Ogawa Plaza   \n",
       "5                   93.0                      4th St at Mission Bay Blvd S   \n",
       "...                  ...                                               ...   \n",
       "183407              27.0                           Beale St at Harrison St   \n",
       "183408              21.0  Montgomery St BART Station (Market St at 2nd St)   \n",
       "183409             278.0                            The Alameda at Bush St   \n",
       "183410             220.0                       San Pablo Ave at MLK Jr Way   \n",
       "183411              24.0                             Spear St at Folsom St   \n",
       "\n",
       "        start_station_latitude  start_station_longitude  end_station_id  \\\n",
       "0                    37.789625              -122.400811            13.0   \n",
       "2                    37.769305              -122.426826             3.0   \n",
       "3                    37.774836              -122.446546            70.0   \n",
       "4                    37.804562              -122.271738           222.0   \n",
       "5                    37.770407              -122.391198           323.0   \n",
       "...                        ...                      ...             ...   \n",
       "183407               37.788059              -122.391865           324.0   \n",
       "183408               37.789625              -122.400811            66.0   \n",
       "183409               37.331932              -121.904888           277.0   \n",
       "183410               37.811351              -122.273422           216.0   \n",
       "183411               37.789677              -122.390428            37.0   \n",
       "\n",
       "                                    end_station_name  end_station_latitude  \\\n",
       "0                     Commercial St at Montgomery St             37.794231   \n",
       "2       Powell St BART Station (Market St at 4th St)             37.786375   \n",
       "3                             Central Ave at Fell St             37.773311   \n",
       "4                              10th Ave at E 15th St             37.792714   \n",
       "5                                 Broadway at Kearny             37.798014   \n",
       "...                                              ...                   ...   \n",
       "183407           Union Square (Powell St at Post St)             37.788300   \n",
       "183408                         3rd St at Townsend St             37.778742   \n",
       "183409                     Morrison Ave at Julian St             37.333658   \n",
       "183410                      San Pablo Ave at 27th St             37.817827   \n",
       "183411                           2nd St at Folsom St             37.785000   \n",
       "\n",
       "        end_station_longitude  bike_id   user_type  member_birth_year  \\\n",
       "0                 -122.402923     4902    Customer             1984.0   \n",
       "2                 -122.404904     5905    Customer             1972.0   \n",
       "3                 -122.444293     6638  Subscriber             1989.0   \n",
       "4                 -122.248780     4898  Subscriber             1974.0   \n",
       "5                 -122.405950     5200  Subscriber             1959.0   \n",
       "...                       ...      ...         ...                ...   \n",
       "183407            -122.408531     4832  Subscriber             1996.0   \n",
       "183408            -122.392741     4960  Subscriber             1984.0   \n",
       "183409            -121.908586     3824  Subscriber             1990.0   \n",
       "183410            -122.275698     5095  Subscriber             1988.0   \n",
       "183411            -122.395936     1057  Subscriber             1989.0   \n",
       "\n",
       "       member_gender bike_share_for_all_trip  \n",
       "0               Male                      No  \n",
       "2               Male                      No  \n",
       "3              Other                      No  \n",
       "4               Male                     Yes  \n",
       "5               Male                      No  \n",
       "...              ...                     ...  \n",
       "183407          Male                      No  \n",
       "183408          Male                      No  \n",
       "183409          Male                     Yes  \n",
       "183410          Male                      No  \n",
       "183411          Male                      No  \n",
       "\n",
       "[174952 rows x 16 columns]"
      ]
     },
     "execution_count": 13,
     "metadata": {},
     "output_type": "execute_result"
    }
   ],
   "source": [
    "# Using dropna function to drop null values. \n",
    "gobike_copy = gobike_copy.dropna()\n",
    "\n",
    "gobike_copy"
   ]
  },
  {
   "cell_type": "markdown",
   "metadata": {},
   "source": [
    "##### Test "
   ]
  },
  {
   "cell_type": "code",
   "execution_count": 14,
   "metadata": {},
   "outputs": [
    {
     "data": {
      "text/plain": [
       "duration_sec               0\n",
       "start_time                 0\n",
       "end_time                   0\n",
       "start_station_id           0\n",
       "start_station_name         0\n",
       "start_station_latitude     0\n",
       "start_station_longitude    0\n",
       "end_station_id             0\n",
       "end_station_name           0\n",
       "end_station_latitude       0\n",
       "end_station_longitude      0\n",
       "bike_id                    0\n",
       "user_type                  0\n",
       "member_birth_year          0\n",
       "member_gender              0\n",
       "bike_share_for_all_trip    0\n",
       "dtype: int64"
      ]
     },
     "execution_count": 14,
     "metadata": {},
     "output_type": "execute_result"
    }
   ],
   "source": [
    "# Checking for the present of Null values. \n",
    "gobike_copy.isna().sum()"
   ]
  },
  {
   "cell_type": "markdown",
   "metadata": {},
   "source": [
    "#### `Issue #2`: Converting Incorrect data structures."
   ]
  },
  {
   "cell_type": "markdown",
   "metadata": {},
   "source": [
    "##### Define #1: Converting `start_station_id`, `end_station_id`, and `bike_id` from float/int to str.\n",
    "    * Using astype() function we will be converting the various id features from float/int to str. "
   ]
  },
  {
   "cell_type": "markdown",
   "metadata": {},
   "source": [
    "##### Code: \n"
   ]
  },
  {
   "cell_type": "code",
   "execution_count": 15,
   "metadata": {},
   "outputs": [
    {
     "name": "stdout",
     "output_type": "stream",
     "text": [
      "<class 'pandas.core.frame.DataFrame'>\n",
      "Int64Index: 174952 entries, 0 to 183411\n",
      "Data columns (total 3 columns):\n",
      " #   Column            Non-Null Count   Dtype  \n",
      "---  ------            --------------   -----  \n",
      " 0   start_station_id  174952 non-null  float64\n",
      " 1   bike_id           174952 non-null  int64  \n",
      " 2   end_station_id    174952 non-null  float64\n",
      "dtypes: float64(2), int64(1)\n",
      "memory usage: 5.3 MB\n"
     ]
    }
   ],
   "source": [
    "# viewing the data structure of the dataset. \n",
    "gobike_copy[['start_station_id', 'bike_id', 'end_station_id']].info()\n"
   ]
  },
  {
   "cell_type": "code",
   "execution_count": 16,
   "metadata": {},
   "outputs": [],
   "source": [
    "# List of columns \n",
    "id_col = ['start_station_id', 'bike_id', 'end_station_id']\n",
    "\n",
    "# Defining a data type converter function\n",
    "\n",
    "def dtype_converter(data, column, dtype, cat_list= None, cat_order= False): \n",
    "    \"\"\"\n",
    "    This Fuction convert data from one type to another, and the following \n",
    "    arguments help in achiving this are: \n",
    "    data --> The name of the dataset.\n",
    "    columns --> A list of columns that you will like to convert.\n",
    "    dtype --> The data type you will like to convert you data to. \n",
    "    cat_list --> This is most useful for converting categorical variable data\n",
    "    cat_order --> This is also used by for categorical variables and it to know whether\n",
    "                    the feature is a order or discret data type. \n",
    "    \"\"\"\n",
    " \n",
    "    if dtype == 'float': \n",
    "        return data[column].astype(float)\n",
    "                    \n",
    "    elif dtype == 'str': \n",
    "        return data[column].astype(str)\n",
    "        \n",
    "    elif dtype == 'int': \n",
    "        return data[column].astype(int)\n",
    "                   \n",
    "    elif dtype == 'categorical': \n",
    "        vclass = pd.api.types.CategoricalDtype(ordered = cat_order, categories = cat_list)\n",
    "            \n",
    "        return data[column].astype(vclass)\n",
    "    \n",
    "    elif dtype == 'datetime': \n",
    "        return pd.to_datetime(data[column])\n",
    "        "
   ]
  },
  {
   "cell_type": "code",
   "execution_count": 17,
   "metadata": {},
   "outputs": [
    {
     "name": "stdout",
     "output_type": "stream",
     "text": [
      "<class 'pandas.core.frame.DataFrame'>\n",
      "Int64Index: 174952 entries, 0 to 183411\n",
      "Data columns (total 3 columns):\n",
      " #   Column            Non-Null Count   Dtype \n",
      "---  ------            --------------   ----- \n",
      " 0   start_station_id  174952 non-null  object\n",
      " 1   bike_id           174952 non-null  object\n",
      " 2   end_station_id    174952 non-null  object\n",
      "dtypes: object(3)\n",
      "memory usage: 5.3+ MB\n"
     ]
    }
   ],
   "source": [
    "# Converting i.d features to string. \n",
    "gobike_copy['start_station_id'] = dtype_converter(data = gobike_copy, column = 'start_station_id' , dtype = 'str')\n",
    "gobike_copy['bike_id'] = dtype_converter(data = gobike_copy, column = 'bike_id' , dtype = 'str')\n",
    "gobike_copy['end_station_id'] = dtype_converter(data = gobike_copy, column = 'end_station_id' , dtype = 'str')\n",
    "\n",
    "# view data structure. \n",
    "gobike_copy[id_col].info()"
   ]
  },
  {
   "cell_type": "markdown",
   "metadata": {},
   "source": [
    "##### Test "
   ]
  },
  {
   "cell_type": "code",
   "execution_count": 18,
   "metadata": {},
   "outputs": [
    {
     "name": "stdout",
     "output_type": "stream",
     "text": [
      "<class 'pandas.core.frame.DataFrame'>\n",
      "Int64Index: 174952 entries, 0 to 183411\n",
      "Data columns (total 3 columns):\n",
      " #   Column            Non-Null Count   Dtype \n",
      "---  ------            --------------   ----- \n",
      " 0   start_station_id  174952 non-null  object\n",
      " 1   bike_id           174952 non-null  object\n",
      " 2   end_station_id    174952 non-null  object\n",
      "dtypes: object(3)\n",
      "memory usage: 5.3+ MB\n"
     ]
    }
   ],
   "source": [
    "# Checking the changes made\n",
    "gobike_copy[['start_station_id', 'bike_id', 'end_station_id']].info()"
   ]
  },
  {
   "cell_type": "markdown",
   "metadata": {},
   "source": [
    "##### Define #2:   Converting user_type, and member_gender from object to categorical dtype.\n",
    "    \n",
    "    * Converting the user type and gender features to categorical dytype."
   ]
  },
  {
   "cell_type": "markdown",
   "metadata": {},
   "source": [
    "##### Code: \n"
   ]
  },
  {
   "cell_type": "code",
   "execution_count": 19,
   "metadata": {},
   "outputs": [
    {
     "name": "stdout",
     "output_type": "stream",
     "text": [
      "<class 'pandas.core.frame.DataFrame'>\n",
      "Int64Index: 174952 entries, 0 to 183411\n",
      "Data columns (total 16 columns):\n",
      " #   Column                   Non-Null Count   Dtype  \n",
      "---  ------                   --------------   -----  \n",
      " 0   duration_sec             174952 non-null  int64  \n",
      " 1   start_time               174952 non-null  object \n",
      " 2   end_time                 174952 non-null  object \n",
      " 3   start_station_id         174952 non-null  object \n",
      " 4   start_station_name       174952 non-null  object \n",
      " 5   start_station_latitude   174952 non-null  float64\n",
      " 6   start_station_longitude  174952 non-null  float64\n",
      " 7   end_station_id           174952 non-null  object \n",
      " 8   end_station_name         174952 non-null  object \n",
      " 9   end_station_latitude     174952 non-null  float64\n",
      " 10  end_station_longitude    174952 non-null  float64\n",
      " 11  bike_id                  174952 non-null  object \n",
      " 12  user_type                174952 non-null  object \n",
      " 13  member_birth_year        174952 non-null  float64\n",
      " 14  member_gender            174952 non-null  object \n",
      " 15  bike_share_for_all_trip  174952 non-null  object \n",
      "dtypes: float64(5), int64(1), object(10)\n",
      "memory usage: 22.7+ MB\n"
     ]
    }
   ],
   "source": [
    "# viewing the data type. \n",
    "gobike_copy.info()"
   ]
  },
  {
   "cell_type": "code",
   "execution_count": 20,
   "metadata": {},
   "outputs": [],
   "source": [
    "# Gender column values. \n",
    "gender = gobike_copy.member_gender.value_counts().index.to_list()\n",
    "\n",
    "# Conveting the member_gender column to categorical data type. \n",
    "gobike_copy['member_gender'] = dtype_converter(data=gobike_copy, column= 'member_gender', dtype = 'categorical', cat_list = gender)\n"
   ]
  },
  {
   "cell_type": "code",
   "execution_count": 21,
   "metadata": {},
   "outputs": [],
   "source": [
    "# user type column values. \n",
    "utype = gobike_copy.user_type.value_counts().index.to_list()\n",
    "\n",
    "# Converting the user type column to a categorical data type. \n",
    "gobike_copy['user_type'] = dtype_converter(data=gobike_copy, column= 'user_type', dtype = 'categorical', cat_list = utype)\n"
   ]
  },
  {
   "cell_type": "markdown",
   "metadata": {},
   "source": [
    "##### Test "
   ]
  },
  {
   "cell_type": "code",
   "execution_count": 22,
   "metadata": {},
   "outputs": [
    {
     "name": "stdout",
     "output_type": "stream",
     "text": [
      "<class 'pandas.core.frame.DataFrame'>\n",
      "Int64Index: 174952 entries, 0 to 183411\n",
      "Data columns (total 16 columns):\n",
      " #   Column                   Non-Null Count   Dtype   \n",
      "---  ------                   --------------   -----   \n",
      " 0   duration_sec             174952 non-null  int64   \n",
      " 1   start_time               174952 non-null  object  \n",
      " 2   end_time                 174952 non-null  object  \n",
      " 3   start_station_id         174952 non-null  object  \n",
      " 4   start_station_name       174952 non-null  object  \n",
      " 5   start_station_latitude   174952 non-null  float64 \n",
      " 6   start_station_longitude  174952 non-null  float64 \n",
      " 7   end_station_id           174952 non-null  object  \n",
      " 8   end_station_name         174952 non-null  object  \n",
      " 9   end_station_latitude     174952 non-null  float64 \n",
      " 10  end_station_longitude    174952 non-null  float64 \n",
      " 11  bike_id                  174952 non-null  object  \n",
      " 12  user_type                174952 non-null  category\n",
      " 13  member_birth_year        174952 non-null  float64 \n",
      " 14  member_gender            174952 non-null  category\n",
      " 15  bike_share_for_all_trip  174952 non-null  object  \n",
      "dtypes: category(2), float64(5), int64(1), object(8)\n",
      "memory usage: 20.4+ MB\n"
     ]
    }
   ],
   "source": [
    "gobike_copy.info()"
   ]
  },
  {
   "cell_type": "code",
   "execution_count": 23,
   "metadata": {},
   "outputs": [
    {
     "name": "stdout",
     "output_type": "stream",
     "text": [
      "<class 'pandas.core.frame.DataFrame'>\n",
      "Int64Index: 174952 entries, 0 to 183411\n",
      "Data columns (total 2 columns):\n",
      " #   Column         Non-Null Count   Dtype   \n",
      "---  ------         --------------   -----   \n",
      " 0   user_type      174952 non-null  category\n",
      " 1   member_gender  174952 non-null  category\n",
      "dtypes: category(2)\n",
      "memory usage: 1.7 MB\n"
     ]
    }
   ],
   "source": [
    "# Checking the changes made. \n",
    "gobike_copy[['user_type', 'member_gender']].info()"
   ]
  },
  {
   "cell_type": "markdown",
   "metadata": {},
   "source": [
    "#####  Define #3: Converting start_time, member_birth_year, and end_time to datetime.\n",
    "\n",
    "    * Using the pandas to_datatime() I would be converting timed data to the datatime data formate."
   ]
  },
  {
   "cell_type": "markdown",
   "metadata": {},
   "source": [
    "##### Code: "
   ]
  },
  {
   "cell_type": "code",
   "execution_count": 24,
   "metadata": {},
   "outputs": [],
   "source": [
    "# convert start time and end time to datetime\n",
    "dates = ['start_time', 'end_time']\n",
    "\n",
    "for column in dates:\n",
    "    gobike_copy[column] = dtype_converter(data = gobike_copy, column = column, dtype = 'datetime')"
   ]
  },
  {
   "cell_type": "markdown",
   "metadata": {},
   "source": [
    "##### Test "
   ]
  },
  {
   "cell_type": "code",
   "execution_count": 25,
   "metadata": {},
   "outputs": [
    {
     "name": "stdout",
     "output_type": "stream",
     "text": [
      "<class 'pandas.core.frame.DataFrame'>\n",
      "Int64Index: 174952 entries, 0 to 183411\n",
      "Data columns (total 2 columns):\n",
      " #   Column      Non-Null Count   Dtype         \n",
      "---  ------      --------------   -----         \n",
      " 0   start_time  174952 non-null  datetime64[ns]\n",
      " 1   end_time    174952 non-null  datetime64[ns]\n",
      "dtypes: datetime64[ns](2)\n",
      "memory usage: 4.0 MB\n"
     ]
    }
   ],
   "source": [
    "# Checking to see changes.\n",
    "gobike_copy[['start_time', 'end_time']].info()"
   ]
  },
  {
   "cell_type": "markdown",
   "metadata": {},
   "source": [
    "##### Define #4: Converting bike_share_for_all_trip from object to bool.\n",
    "   * I would be converting the bike_share from string to bool"
   ]
  },
  {
   "cell_type": "markdown",
   "metadata": {},
   "source": [
    "##### Code: "
   ]
  },
  {
   "cell_type": "code",
   "execution_count": 26,
   "metadata": {},
   "outputs": [],
   "source": [
    "# Bike share value count\n",
    "gobike_copy.bike_share_for_all_trip.value_counts().index\n",
    "\n",
    "# Define a bool converter function\n",
    "\n",
    "def bool_converter(x): \n",
    "    if x == 'No':\n",
    "        return False\n",
    "    elif x == 'Yes': \n",
    "        return True"
   ]
  },
  {
   "cell_type": "code",
   "execution_count": 27,
   "metadata": {},
   "outputs": [],
   "source": [
    "# converting to bool \n",
    "gobike_copy['bike_share_for_all_trip'] = gobike_copy['bike_share_for_all_trip'].apply(bool_converter)"
   ]
  },
  {
   "cell_type": "markdown",
   "metadata": {},
   "source": [
    "##### Test: "
   ]
  },
  {
   "cell_type": "code",
   "execution_count": 28,
   "metadata": {},
   "outputs": [
    {
     "data": {
      "text/plain": [
       "False    157606\n",
       "True      17346\n",
       "Name: bike_share_for_all_trip, dtype: int64"
      ]
     },
     "execution_count": 28,
     "metadata": {},
     "output_type": "execute_result"
    }
   ],
   "source": [
    "# confirming changes made to the dataset \n",
    "gobike_copy.bike_share_for_all_trip.value_counts()"
   ]
  },
  {
   "cell_type": "code",
   "execution_count": 29,
   "metadata": {},
   "outputs": [
    {
     "name": "stdout",
     "output_type": "stream",
     "text": [
      "<class 'pandas.core.series.Series'>\n",
      "Int64Index: 174952 entries, 0 to 183411\n",
      "Series name: bike_share_for_all_trip\n",
      "Non-Null Count   Dtype\n",
      "--------------   -----\n",
      "174952 non-null  bool \n",
      "dtypes: bool(1)\n",
      "memory usage: 1.5 MB\n"
     ]
    }
   ],
   "source": [
    "# Confirming data type\n",
    "gobike_copy.bike_share_for_all_trip.info()"
   ]
  },
  {
   "cell_type": "markdown",
   "metadata": {},
   "source": [
    "#### `Issue #3`: Converting the duration_sec column from second to minute."
   ]
  },
  {
   "cell_type": "markdown",
   "metadata": {},
   "source": [
    "##### Define: \n",
    "   * I would be creating a new column where the duration on trip is in minute. "
   ]
  },
  {
   "cell_type": "markdown",
   "metadata": {},
   "source": [
    "#### Code: "
   ]
  },
  {
   "cell_type": "code",
   "execution_count": 30,
   "metadata": {},
   "outputs": [
    {
     "data": {
      "text/plain": [
       "0    52185\n",
       "2    61854\n",
       "3    36490\n",
       "4     1585\n",
       "5     1793\n",
       "Name: duration_sec, dtype: int64"
      ]
     },
     "execution_count": 30,
     "metadata": {},
     "output_type": "execute_result"
    }
   ],
   "source": [
    "# Brief view of data \n",
    "gobike_copy.duration_sec.head()"
   ]
  },
  {
   "cell_type": "code",
   "execution_count": 31,
   "metadata": {},
   "outputs": [],
   "source": [
    "# Creating a minute duration column \n",
    "gobike_copy['duration_min'] = gobike_copy['duration_sec']/60"
   ]
  },
  {
   "cell_type": "markdown",
   "metadata": {},
   "source": [
    "##### Test:"
   ]
  },
  {
   "cell_type": "code",
   "execution_count": 32,
   "metadata": {},
   "outputs": [
    {
     "data": {
      "text/plain": [
       "0     869.750000\n",
       "2    1030.900000\n",
       "3     608.166667\n",
       "4      26.416667\n",
       "5      29.883333\n",
       "Name: duration_min, dtype: float64"
      ]
     },
     "execution_count": 32,
     "metadata": {},
     "output_type": "execute_result"
    }
   ],
   "source": [
    "# Confirming the changes made to the data set. \n",
    "gobike_copy.duration_min.head()"
   ]
  },
  {
   "cell_type": "markdown",
   "metadata": {},
   "source": [
    "#### `Issue #4`: Drop columns that aren't useful to our analysis."
   ]
  },
  {
   "cell_type": "markdown",
   "metadata": {},
   "source": [
    "##### Define: \n",
    "   * We would be dropping columns that aren't necessary for our analysis. "
   ]
  },
  {
   "cell_type": "markdown",
   "metadata": {},
   "source": [
    "##### Code: "
   ]
  },
  {
   "cell_type": "code",
   "execution_count": 33,
   "metadata": {},
   "outputs": [
    {
     "data": {
      "text/plain": [
       "Index(['duration_sec', 'start_time', 'end_time', 'start_station_id',\n",
       "       'start_station_name', 'start_station_latitude',\n",
       "       'start_station_longitude', 'end_station_id', 'end_station_name',\n",
       "       'end_station_latitude', 'end_station_longitude', 'bike_id', 'user_type',\n",
       "       'member_birth_year', 'member_gender', 'bike_share_for_all_trip',\n",
       "       'duration_min'],\n",
       "      dtype='object')"
      ]
     },
     "execution_count": 33,
     "metadata": {},
     "output_type": "execute_result"
    }
   ],
   "source": [
    "# Viewing data columns. \n",
    "gobike_copy.columns"
   ]
  },
  {
   "cell_type": "code",
   "execution_count": 34,
   "metadata": {},
   "outputs": [],
   "source": [
    "# Dropping columns not need for analysis. \n",
    "gobike_copy.drop(columns = ['start_station_latitude','start_station_longitude',\n",
    "                            'end_station_latitude', 'end_station_longitude'],axis= 1, inplace= True)"
   ]
  },
  {
   "cell_type": "markdown",
   "metadata": {},
   "source": [
    "##### Test: "
   ]
  },
  {
   "cell_type": "code",
   "execution_count": 35,
   "metadata": {},
   "outputs": [
    {
     "data": {
      "text/plain": [
       "Index(['duration_sec', 'start_time', 'end_time', 'start_station_id',\n",
       "       'start_station_name', 'end_station_id', 'end_station_name', 'bike_id',\n",
       "       'user_type', 'member_birth_year', 'member_gender',\n",
       "       'bike_share_for_all_trip', 'duration_min'],\n",
       "      dtype='object')"
      ]
     },
     "execution_count": 35,
     "metadata": {},
     "output_type": "execute_result"
    }
   ],
   "source": [
    "# Checking to see changes has an effect. \n",
    "gobike_copy.columns "
   ]
  },
  {
   "cell_type": "markdown",
   "metadata": {},
   "source": [
    "#### Clean Dataset. \n"
   ]
  },
  {
   "cell_type": "code",
   "execution_count": 36,
   "metadata": {},
   "outputs": [
    {
     "name": "stdout",
     "output_type": "stream",
     "text": [
      "After cleaning the data, the dataset now has 174952 lines and 13 columns \n",
      "\n",
      "<class 'pandas.core.frame.DataFrame'>\n",
      "Int64Index: 174952 entries, 0 to 183411\n",
      "Data columns (total 13 columns):\n",
      " #   Column                   Non-Null Count   Dtype         \n",
      "---  ------                   --------------   -----         \n",
      " 0   duration_sec             174952 non-null  int64         \n",
      " 1   start_time               174952 non-null  datetime64[ns]\n",
      " 2   end_time                 174952 non-null  datetime64[ns]\n",
      " 3   start_station_id         174952 non-null  object        \n",
      " 4   start_station_name       174952 non-null  object        \n",
      " 5   end_station_id           174952 non-null  object        \n",
      " 6   end_station_name         174952 non-null  object        \n",
      " 7   bike_id                  174952 non-null  object        \n",
      " 8   user_type                174952 non-null  category      \n",
      " 9   member_birth_year        174952 non-null  float64       \n",
      " 10  member_gender            174952 non-null  category      \n",
      " 11  bike_share_for_all_trip  174952 non-null  bool          \n",
      " 12  duration_min             174952 non-null  float64       \n",
      "dtypes: bool(1), category(2), datetime64[ns](2), float64(2), int64(1), object(5)\n",
      "memory usage: 15.2+ MB\n"
     ]
    }
   ],
   "source": [
    "print(f\"After cleaning the data, the dataset now has {gobike_copy.shape[0]} lines and {gobike_copy.shape[1]} columns\", \"\\n\")\n",
    "\n",
    "# Viewing data structure\n",
    "gobike_copy.info()"
   ]
  },
  {
   "cell_type": "markdown",
   "metadata": {},
   "source": [
    "### Extract Cleaned Dataset. "
   ]
  },
  {
   "cell_type": "code",
   "execution_count": 37,
   "metadata": {},
   "outputs": [],
   "source": [
    "# Exporting cleaned dataset \n",
    "gobike_copy.to_csv(r'data/fordgobike_master_dataset',index=False)"
   ]
  },
  {
   "cell_type": "markdown",
   "metadata": {},
   "source": [
    "## Data structru"
   ]
  },
  {
   "cell_type": "markdown",
   "metadata": {},
   "source": [
    "### What is the structure of your dataset?\n",
    "The cleaned Ford GoBike dataset has 174952 rows and 12 columns. The dataset is made\n",
    "up of the following columns: \n",
    " * `bike_id (str)`: Unique string for every bike owed by Ford GoBike.\n",
    " \n",
    " * `duration_min (float)`: The duration in seconds for each trip.\n",
    " \n",
    " * `start_time (datatime)`: The time a user started his or her trip.\n",
    " \n",
    " * `end_time (datetime)`: The time a user ended his or her trip.\n",
    " \n",
    " * `start_station_id (str)`: A unique string for each starting station maintained by ford GoBike.\n",
    " \n",
    " * `start_station_name (str)`: Starting Station name.\n",
    " \n",
    " * `end_station_id (str)`: A unique string for each ending station maintained by ford GoBike.\n",
    " \n",
    " * `end_station_name (str)`: End station name.\n",
    " \n",
    " * `user_type (categorical)`: Is the user a customer or subscriber. \n",
    " \n",
    " * `member_birth_year (int)`: Year user created or use a ford Goford account.\n",
    " \n",
    " * `member_gender (categorical)`: Is the user a Male or Famale.\n",
    " \n",
    " * `bike_share_for_all_trip (bool)`: This is a discounted memberships for low-income riders.\n",
    "\n",
    "### What is/are the main feature(s) of interest in your dataset?\n",
    "\n",
    "For this dataset, the feature that we are most interested in is the duration of trip,\n",
    "and what features that can influence this feature from our dataset. \n",
    "\n",
    "### What features in the dataset do you think will help support your investigation into your feature(s) of interest?\n",
    "Our analysis we try to look at what facts or featurs that can influnence trip duration, and from our investication of our dataset I believe that the following feature will assist us in analysis this behavour: \n",
    "* Duration of trip.\n",
    "* start_time and end_time of trip. \n",
    "* start and end startion name. \n",
    "* User type and gender. \n",
    "* is the user a bike share for all trip memeber.\n",
    "* bike_id to know whether some bike has more user than others (to know the condition of each bike)\n",
    "\n",
    "Also, we would like to know what time of the week and day that each station are most active and their repective station names. for this we will be using: \n",
    "* start_station_id and end_station_id (to know station that are the most use).\n",
    "* start and end time of trip (some feature enginnering will be done on the dataset). "
   ]
  },
  {
   "cell_type": "markdown",
   "metadata": {},
   "source": [
    "## Loading Cleaned dataset."
   ]
  },
  {
   "cell_type": "code",
   "execution_count": 38,
   "metadata": {
    "scrolled": true
   },
   "outputs": [
    {
     "name": "stdout",
     "output_type": "stream",
     "text": [
      "Index(['duration_sec', 'start_time', 'end_time', 'start_station_id',\n",
      "       'start_station_name', 'end_station_id', 'end_station_name', 'bike_id',\n",
      "       'user_type', 'member_birth_year', 'member_gender',\n",
      "       'bike_share_for_all_trip', 'duration_min'],\n",
      "      dtype='object') \n",
      "\n",
      "<class 'pandas.core.frame.DataFrame'>\n",
      "Int64Index: 174952 entries, 0 to 183411\n",
      "Data columns (total 13 columns):\n",
      " #   Column                   Non-Null Count   Dtype         \n",
      "---  ------                   --------------   -----         \n",
      " 0   duration_sec             174952 non-null  int64         \n",
      " 1   start_time               174952 non-null  datetime64[ns]\n",
      " 2   end_time                 174952 non-null  datetime64[ns]\n",
      " 3   start_station_id         174952 non-null  object        \n",
      " 4   start_station_name       174952 non-null  object        \n",
      " 5   end_station_id           174952 non-null  object        \n",
      " 6   end_station_name         174952 non-null  object        \n",
      " 7   bike_id                  174952 non-null  object        \n",
      " 8   user_type                174952 non-null  category      \n",
      " 9   member_birth_year        174952 non-null  float64       \n",
      " 10  member_gender            174952 non-null  category      \n",
      " 11  bike_share_for_all_trip  174952 non-null  bool          \n",
      " 12  duration_min             174952 non-null  float64       \n",
      "dtypes: bool(1), category(2), datetime64[ns](2), float64(2), int64(1), object(5)\n",
      "memory usage: 15.2+ MB\n"
     ]
    }
   ],
   "source": [
    "# Loading and viewing dataset. \n",
    "gobike = gobike_copy\n",
    "print(gobike.columns, '\\n')\n",
    "\n",
    "# view \n",
    "gobike.info()"
   ]
  },
  {
   "cell_type": "code",
   "execution_count": 39,
   "metadata": {},
   "outputs": [],
   "source": [
    "# In other to make our analysis smooth and easy to understand i will be adding \n",
    "# the following features to my dataset. \n",
    "\n",
    "# Creating a week_day feature from start_time column. \n",
    "gobike['week_day'] = gobike['start_time'].dt.day_name()\n",
    "week_day = gobike['week_day'].value_counts().index.to_list()\n",
    "\n",
    "# convert the data type from object to convert \n",
    "gobike['week_day'] = dtype_converter(data = gobike, column = 'week_day',dtype= 'categorical', cat_list = week_day)\n",
    "\n",
    "# Creating hour column \n",
    "gobike['hours'] = gobike['start_time'].dt.hour\n",
    "hours = gobike['hours'].value_counts().index.to_list()\n",
    "hours = list(np.arange(len(hours)))\n",
    "\n",
    "# convert the data type from int to categorical data type. \n",
    "gobike['hours'] = dtype_converter(data = gobike, column = 'hours', cat_list = hours, \n",
    "                                  dtype = 'categorical', cat_order = True)\n",
    "\n",
    "# Creating the age column\n",
    "gobike['age'] = 2019 - gobike['member_birth_year']\n",
    "gobike['age'] = dtype_converter(data = gobike, column = 'age',dtype = 'int')\n",
    "\n",
    "# converting the member birth year to int. \n",
    "gobike['member_birth_year'] = dtype_converter(data = gobike, column = 'member_birth_year', dtype = 'int')"
   ]
  },
  {
   "cell_type": "code",
   "execution_count": 40,
   "metadata": {},
   "outputs": [
    {
     "name": "stdout",
     "output_type": "stream",
     "text": [
      "<class 'pandas.core.frame.DataFrame'>\n",
      "Int64Index: 174952 entries, 0 to 183411\n",
      "Data columns (total 16 columns):\n",
      " #   Column                   Non-Null Count   Dtype         \n",
      "---  ------                   --------------   -----         \n",
      " 0   duration_sec             174952 non-null  int64         \n",
      " 1   start_time               174952 non-null  datetime64[ns]\n",
      " 2   end_time                 174952 non-null  datetime64[ns]\n",
      " 3   start_station_id         174952 non-null  object        \n",
      " 4   start_station_name       174952 non-null  object        \n",
      " 5   end_station_id           174952 non-null  object        \n",
      " 6   end_station_name         174952 non-null  object        \n",
      " 7   bike_id                  174952 non-null  object        \n",
      " 8   user_type                174952 non-null  category      \n",
      " 9   member_birth_year        174952 non-null  int32         \n",
      " 10  member_gender            174952 non-null  category      \n",
      " 11  bike_share_for_all_trip  174952 non-null  bool          \n",
      " 12  duration_min             174952 non-null  float64       \n",
      " 13  week_day                 174952 non-null  category      \n",
      " 14  hours                    174952 non-null  category      \n",
      " 15  age                      174952 non-null  int32         \n",
      "dtypes: bool(1), category(4), datetime64[ns](2), float64(1), int32(2), int64(1), object(5)\n",
      "memory usage: 15.5+ MB\n",
      "None \n",
      "\n",
      "\n",
      "Index(['duration_sec', 'start_time', 'end_time', 'start_station_id',\n",
      "       'start_station_name', 'end_station_id', 'end_station_name', 'bike_id',\n",
      "       'user_type', 'member_birth_year', 'member_gender',\n",
      "       'bike_share_for_all_trip', 'duration_min', 'week_day', 'hours', 'age'],\n",
      "      dtype='object') \n",
      "\n",
      "\n"
     ]
    },
    {
     "data": {
      "text/html": [
       "<div>\n",
       "<style scoped>\n",
       "    .dataframe tbody tr th:only-of-type {\n",
       "        vertical-align: middle;\n",
       "    }\n",
       "\n",
       "    .dataframe tbody tr th {\n",
       "        vertical-align: top;\n",
       "    }\n",
       "\n",
       "    .dataframe thead th {\n",
       "        text-align: right;\n",
       "    }\n",
       "</style>\n",
       "<table border=\"1\" class=\"dataframe\">\n",
       "  <thead>\n",
       "    <tr style=\"text-align: right;\">\n",
       "      <th></th>\n",
       "      <th>duration_sec</th>\n",
       "      <th>start_time</th>\n",
       "      <th>end_time</th>\n",
       "      <th>start_station_id</th>\n",
       "      <th>start_station_name</th>\n",
       "      <th>end_station_id</th>\n",
       "      <th>end_station_name</th>\n",
       "      <th>bike_id</th>\n",
       "      <th>user_type</th>\n",
       "      <th>member_birth_year</th>\n",
       "      <th>member_gender</th>\n",
       "      <th>bike_share_for_all_trip</th>\n",
       "      <th>duration_min</th>\n",
       "      <th>week_day</th>\n",
       "      <th>hours</th>\n",
       "      <th>age</th>\n",
       "    </tr>\n",
       "  </thead>\n",
       "  <tbody>\n",
       "    <tr>\n",
       "      <th>0</th>\n",
       "      <td>52185</td>\n",
       "      <td>2019-02-28 17:32:10.145</td>\n",
       "      <td>2019-03-01 08:01:55.975</td>\n",
       "      <td>21.0</td>\n",
       "      <td>Montgomery St BART Station (Market St at 2nd St)</td>\n",
       "      <td>13.0</td>\n",
       "      <td>Commercial St at Montgomery St</td>\n",
       "      <td>4902</td>\n",
       "      <td>Customer</td>\n",
       "      <td>1984</td>\n",
       "      <td>Male</td>\n",
       "      <td>False</td>\n",
       "      <td>869.75</td>\n",
       "      <td>Thursday</td>\n",
       "      <td>17</td>\n",
       "      <td>35</td>\n",
       "    </tr>\n",
       "  </tbody>\n",
       "</table>\n",
       "</div>"
      ],
      "text/plain": [
       "   duration_sec              start_time                end_time  \\\n",
       "0         52185 2019-02-28 17:32:10.145 2019-03-01 08:01:55.975   \n",
       "\n",
       "  start_station_id                                start_station_name  \\\n",
       "0             21.0  Montgomery St BART Station (Market St at 2nd St)   \n",
       "\n",
       "  end_station_id                end_station_name bike_id user_type  \\\n",
       "0           13.0  Commercial St at Montgomery St    4902  Customer   \n",
       "\n",
       "   member_birth_year member_gender  bike_share_for_all_trip  duration_min  \\\n",
       "0               1984          Male                    False        869.75   \n",
       "\n",
       "   week_day hours  age  \n",
       "0  Thursday    17   35  "
      ]
     },
     "execution_count": 40,
     "metadata": {},
     "output_type": "execute_result"
    }
   ],
   "source": [
    "# Data structure \n",
    "print(gobike.info(), '\\n\\n' )\n",
    "\n",
    "# Columns \n",
    "print(gobike.columns, '\\n\\n')\n",
    "\n",
    "# Summary of data\n",
    "gobike.head(1)\n"
   ]
  },
  {
   "cell_type": "markdown",
   "metadata": {},
   "source": [
    "## Univariate Exploration"
   ]
  },
  {
   "cell_type": "markdown",
   "metadata": {},
   "source": [
    " This section of the notebook we will be examining the distribution of univariate graph. The point of this univariable visualization is to see the distribution of individual features, in other to identify outliers, and how different variables make up a qualitative feature. \n",
    " \n",
    " \n",
    "For the sack of understanding for my readers, I would be dividing this section base on the type of data we are I plotting, and these distribution are: \n",
    "\n",
    "* `Qualitative Feature`: This include featurs like member_gender, user_type, etc. \n",
    "\n",
    "* `Quatitative Feature`: These are made up of feature such as duration_min, hours, age etc. "
   ]
  },
  {
   "cell_type": "markdown",
   "metadata": {},
   "source": [
    "### Qualitative Feature: Univariate"
   ]
  },
  {
   "cell_type": "markdown",
   "metadata": {},
   "source": [
    "#### Univariate `#1` "
   ]
  },
  {
   "cell_type": "markdown",
   "metadata": {},
   "source": [
    "##### Question: \n",
    "\n",
    "> **What is the top 10 most common starting stations?**"
   ]
  },
  {
   "cell_type": "markdown",
   "metadata": {},
   "source": [
    "##### Visualization: "
   ]
  },
  {
   "cell_type": "code",
   "execution_count": 41,
   "metadata": {},
   "outputs": [
    {
     "name": "stdout",
     "output_type": "stream",
     "text": [
      "Index(['Market St at 10th St',\n",
      "       'San Francisco Caltrain Station 2  (Townsend St at 4th St)',\n",
      "       'Berry St at 4th St',\n",
      "       'Montgomery St BART Station (Market St at 2nd St)',\n",
      "       'Powell St BART Station (Market St at 4th St)',\n",
      "       'San Francisco Caltrain (Townsend St at 4th St)',\n",
      "       'San Francisco Ferry Building (Harry Bridges Plaza)',\n",
      "       'Howard St at Beale St', 'Steuart St at Market St',\n",
      "       'Powell St BART Station (Market St at 5th St)',\n",
      "       ...\n",
      "       '23rd Ave at Foothill Blvd', 'Backesto Park (Jackson St at 13th St)',\n",
      "       'Leavenworth St at Broadway', 'Taylor St at 9th St',\n",
      "       'Willow St at Vine St', 'Farnam St at Fruitvale Ave',\n",
      "       'Parker Ave at McAllister St', '21st Ave at International Blvd',\n",
      "       'Palm St at Willow St', '16th St Depot'],\n",
      "      dtype='object', length=329)\n"
     ]
    }
   ],
   "source": [
    "# Get the start station count. \n",
    "start_sta = gobike.start_station_name.value_counts()\n",
    "\n",
    "start_sta_index = start_sta.index\n",
    "\n",
    "print(start_sta_index)"
   ]
  },
  {
   "cell_type": "code",
   "execution_count": 42,
   "metadata": {},
   "outputs": [
    {
     "data": {
      "image/png": "[encoded data removed]",
      "text/plain": [
       "<Figure size 432x288 with 1 Axes>"
      ]
     },
     "metadata": {
      "needs_background": "light"
     },
     "output_type": "display_data"
    }
   ],
   "source": [
    "# Color palette \n",
    "base_color = sns.color_palette()[2]\n",
    "\n",
    "# Plot barh chart.  \n",
    "sns.countplot(data=gobike, y='start_station_name', color=base_color, \n",
    "              order=gobike['start_station_name'].value_counts().iloc[:10].index)\n",
    "\n",
    "# Remove right and top spines\n",
    "sns.despine()\n",
    "\n",
    "# Total number of rows from the dataset\n",
    "total = gobike.shape[0]\n",
    "\n",
    "# use a loop to print each station's relative frequency on the chart\n",
    "for i in range(10):\n",
    "    count = start_sta[i]\n",
    "    pct_string = '{:0.2f}%'.format(100*count/total)\n",
    "    plt.text(count+1, i, pct_string, va='center')\n",
    "    \n",
    "# include axis labels and title\n",
    "plt.ylabel('Start Station Name')\n",
    "plt.xlabel('Number of Trips')\n",
    "plt.title('Top 10 Most Common Start Stations');"
   ]
  },
  {
   "cell_type": "code",
   "execution_count": 43,
   "metadata": {},
   "outputs": [
    {
     "name": "stdout",
     "output_type": "stream",
     "text": [
      "\n",
      " The top 10 most used starting starting account for 15.4% of the 329 total stations.\n"
     ]
    }
   ],
   "source": [
    "# Summing up the values of the top 10 starting station. \n",
    "top10_total = 0 \n",
    "\n",
    "for i in range(10): \n",
    "    count = start_sta[i] \n",
    "    pct = 100 * count/total\n",
    "    top10_total += pct \n",
    "\n",
    "print(\"\\n\", f\"The top 10 most used starting starting account for {top10_total:.1f}% of the {start_sta.count()} total stations.\")\n",
    "      "
   ]
  },
  {
   "cell_type": "markdown",
   "metadata": {},
   "source": [
    "##### Visualization: \n",
    "\n",
    "> * From our visalization we can observe that the top 10 most used starting station account 15.4% of the total 329 stations. By proportion 3 % for all starting station account for 15.4% of all activities. \n"
   ]
  },
  {
   "cell_type": "markdown",
   "metadata": {},
   "source": [
    "#### Univariate `#2` "
   ]
  },
  {
   "cell_type": "markdown",
   "metadata": {},
   "source": [
    "##### Question: \n",
    "\n",
    "> * What is the top 10 most used end station? "
   ]
  },
  {
   "cell_type": "markdown",
   "metadata": {},
   "source": [
    "##### Visualization:"
   ]
  },
  {
   "cell_type": "code",
   "execution_count": 44,
   "metadata": {},
   "outputs": [
    {
     "name": "stdout",
     "output_type": "stream",
     "text": [
      "Index(['San Francisco Caltrain Station 2  (Townsend St at 4th St)',\n",
      "       'Market St at 10th St',\n",
      "       'Montgomery St BART Station (Market St at 2nd St)',\n",
      "       'San Francisco Ferry Building (Harry Bridges Plaza)',\n",
      "       'San Francisco Caltrain (Townsend St at 4th St)',\n",
      "       'Powell St BART Station (Market St at 4th St)', 'Berry St at 4th St',\n",
      "       'The Embarcadero at Sansome St', 'Steuart St at Market St',\n",
      "       'Powell St BART Station (Market St at 5th St)',\n",
      "       ...\n",
      "       'Backesto Park (Jackson St at 13th St)',\n",
      "       'Foothill Blvd at Harrington Ave', 'Leavenworth St at Broadway',\n",
      "       'Taylor St at 9th St', 'Farnam St at Fruitvale Ave',\n",
      "       'Parker Ave at McAllister St', 'Palm St at Willow St', '16th St Depot',\n",
      "       'Willow St at Vine St', '21st Ave at International Blvd'],\n",
      "      dtype='object', length=329)\n"
     ]
    }
   ],
   "source": [
    "# Get the end station count. \n",
    "end_sta = gobike.end_station_name.value_counts()\n",
    "\n",
    "end_sta_index = end_sta.index\n",
    "\n",
    "print(end_sta_index)"
   ]
  },
  {
   "cell_type": "code",
   "execution_count": 45,
   "metadata": {},
   "outputs": [
    {
     "data": {
      "image/png": "[encoded data removed]",
      "text/plain": [
       "<Figure size 432x288 with 1 Axes>"
      ]
     },
     "metadata": {
      "needs_background": "light"
     },
     "output_type": "display_data"
    }
   ],
   "source": [
    "# Color palette \n",
    "base_color = sns.color_palette()[2]\n",
    "\n",
    "# Plot barh chart.  \n",
    "sns.countplot(data=gobike, y='end_station_name', color=base_color, \n",
    "              order=gobike['end_station_name'].value_counts().iloc[:10].index)\n",
    "\n",
    "# Remove right and top spines\n",
    "sns.despine()\n",
    "\n",
    "# Total number of rows from the dataset\n",
    "total = gobike.shape[0]\n",
    "\n",
    "# use a loop to print each station's relative frequency on the chart\n",
    "for i in range(10):\n",
    "    count = end_sta[i]\n",
    "    pct_string = '{:0.2f}%'.format(100*count/total)\n",
    "    plt.text(count+1, i, pct_string, va='center')\n",
    "    \n",
    "# include axis labels and title\n",
    "plt.ylabel('End Station Name')\n",
    "plt.xlabel('Number of Trips')\n",
    "plt.title('Top 10 Most Common End Stations');"
   ]
  },
  {
   "cell_type": "code",
   "execution_count": 46,
   "metadata": {},
   "outputs": [
    {
     "name": "stdout",
     "output_type": "stream",
     "text": [
      "\n",
      " The top 10 most used starting starting account for 17.3% of the 329 total stations.\n"
     ]
    }
   ],
   "source": [
    "# Summing up the values of the top 10 end station. \n",
    "top10_total = 0 \n",
    "\n",
    "for i in range(10): \n",
    "    count = end_sta[i] \n",
    "    pct = 100 * count/total\n",
    "    top10_total += pct \n",
    "\n",
    "print(\"\\n\", f\"The top 10 most used starting starting account for {top10_total:.1f}% of the {end_sta.count()} total stations.\")\n",
    "    "
   ]
  },
  {
   "cell_type": "markdown",
   "metadata": {},
   "source": [
    "##### Observation: \n",
    "> * Unlike our previous findings on starting starting station, there seems to be a higher percetage of stations account for gobike user end distination, showing that the top 10 station account for 17.3% of all station activites."
   ]
  },
  {
   "cell_type": "markdown",
   "metadata": {},
   "source": [
    "#### Univariate `#3` "
   ]
  },
  {
   "cell_type": "markdown",
   "metadata": {},
   "source": [
    "##### Question: \n",
    "\n",
    "> * **what is the distribution of gender?**"
   ]
  },
  {
   "cell_type": "markdown",
   "metadata": {},
   "source": [
    "##### Visualization: \n"
   ]
  },
  {
   "cell_type": "code",
   "execution_count": 47,
   "metadata": {},
   "outputs": [],
   "source": [
    "# Gender values counts\n",
    "gen_count = gobike.member_gender.value_counts()\n"
   ]
  },
  {
   "cell_type": "code",
   "execution_count": 48,
   "metadata": {},
   "outputs": [
    {
     "data": {
      "image/png": "[encoded data removed]",
      "text/plain": [
       "<Figure size 576x288 with 1 Axes>"
      ]
     },
     "metadata": {
      "needs_background": "light"
     },
     "output_type": "display_data"
    }
   ],
   "source": [
    "# Color palette \n",
    "base_color = sns.color_palette()[2]\n",
    "\n",
    "# Plot size \n",
    "plt.figure(figsize = [8, 4])\n",
    "\n",
    "# Plot barh chart.  \n",
    "sns.countplot(data=gobike, x='member_gender', color=base_color, \n",
    "              order=gen_count.index)\n",
    "\n",
    "# Remove right and top spines\n",
    "sns.despine()\n",
    "\n",
    "# Total number of rows from the dataset\n",
    "total = gobike.shape[0]\n",
    "\n",
    "# use a loop to print each station's relative frequency on the chart\n",
    "for i in range(len(gen_count)):\n",
    "    count = gen_count[i]\n",
    "    pct_string = '{:0.2f}%'.format(100*count/total)\n",
    "    plt.text(i, count+1, pct_string,va= 'bottom', ha='center')\n",
    "    \n",
    "# include axis labels and title\n",
    "plt.ylabel('Frequency of Gender')\n",
    "plt.xlabel('Gender')\n",
    "plt.title('Gender Distribution');"
   ]
  },
  {
   "cell_type": "markdown",
   "metadata": {},
   "source": [
    "##### Observation: \n",
    "\n",
    "> * Of the 174952 trip Male users account for 3 out of every 4 users. "
   ]
  },
  {
   "cell_type": "markdown",
   "metadata": {},
   "source": [
    "#### Univariate `#4` "
   ]
  },
  {
   "cell_type": "markdown",
   "metadata": {},
   "source": [
    "##### Question: \n",
    "\n",
    "> * **What is the distripution of User_type?**"
   ]
  },
  {
   "cell_type": "markdown",
   "metadata": {},
   "source": [
    "##### Visualization: \n"
   ]
  },
  {
   "cell_type": "code",
   "execution_count": 49,
   "metadata": {},
   "outputs": [],
   "source": [
    "# user value count \n",
    "user_count = gobike['user_type'].value_counts()"
   ]
  },
  {
   "cell_type": "code",
   "execution_count": 50,
   "metadata": {},
   "outputs": [
    {
     "data": {
      "image/png": "[encoded data removed]",
      "text/plain": [
       "<Figure size 504x288 with 1 Axes>"
      ]
     },
     "metadata": {
      "needs_background": "light"
     },
     "output_type": "display_data"
    }
   ],
   "source": [
    "# Color palette \n",
    "base_color = sns.color_palette()[2]\n",
    "\n",
    "# Plot size \n",
    "plt.figure(figsize = [7, 4])\n",
    "\n",
    "# Plot barh chart.  \n",
    "sns.countplot(data=gobike, x='user_type', color=base_color, \n",
    "              order=user_count.index)\n",
    "\n",
    "# Remove right and top spines\n",
    "sns.despine()\n",
    "\n",
    "# Total number of rows from the dataset\n",
    "total = gobike.shape[0]\n",
    "\n",
    "# use a loop to print each station's relative frequency on the chart\n",
    "for i in range(len(user_count)):\n",
    "    count = user_count[i]\n",
    "    pct_string = '{:0.2f}%'.format(100*count/total)\n",
    "    plt.text(i, count+1, pct_string,va= 'bottom', ha='center')\n",
    "    \n",
    "# include axis labels and title\n",
    "plt.ylabel('Number of Trip')\n",
    "plt.xlabel('User Type')\n",
    "plt.title('User Type Distribution');"
   ]
  },
  {
   "cell_type": "markdown",
   "metadata": {},
   "source": [
    "##### Observation: \n",
    "> * 9 out of 10 trips were taken by subscribers.\n",
    "> * This could suggest that most users use the service as one of their main means of transportation.\n",
    "> * Only 10% of trips were taken by casual customers, those that don't have a subscription plan.\n"
   ]
  },
  {
   "cell_type": "markdown",
   "metadata": {},
   "source": [
    "#### Univariate `#5` "
   ]
  },
  {
   "cell_type": "markdown",
   "metadata": {},
   "source": [
    "##### Question:\n",
    "\n",
    "> * **What is the distribution of bike share for all trip program?**"
   ]
  },
  {
   "cell_type": "markdown",
   "metadata": {},
   "source": [
    "##### Visualization: "
   ]
  },
  {
   "cell_type": "code",
   "execution_count": 51,
   "metadata": {},
   "outputs": [
    {
     "data": {
      "text/plain": [
       "False    157606\n",
       "True      17346\n",
       "Name: bike_share_for_all_trip, dtype: int64"
      ]
     },
     "execution_count": 51,
     "metadata": {},
     "output_type": "execute_result"
    }
   ],
   "source": [
    "# get the number of regular trips and trips that were part of the program\n",
    "bike_share = gobike['bike_share_for_all_trip'].value_counts()\n",
    "bike_share"
   ]
  },
  {
   "cell_type": "code",
   "execution_count": 52,
   "metadata": {},
   "outputs": [
    {
     "data": {
      "image/png": "[encoded data removed]",
      "text/plain": [
       "<Figure size 504x288 with 1 Axes>"
      ]
     },
     "metadata": {
      "needs_background": "light"
     },
     "output_type": "display_data"
    }
   ],
   "source": [
    "# Color palette \n",
    "base_color = sns.color_palette()[2]\n",
    "\n",
    "# Plot size \n",
    "plt.figure(figsize = [7, 4])\n",
    "\n",
    "# Plot barh chart.  \n",
    "sns.countplot(data=gobike, x='bike_share_for_all_trip', color=base_color, \n",
    "              order=bike_share.index)\n",
    "\n",
    "# Remove right and top spines\n",
    "sns.despine()\n",
    "\n",
    "# Total number of rows from the dataset\n",
    "total = gobike.shape[0]\n",
    "\n",
    "# use a loop to print each station's relative frequency on the chart\n",
    "for i in range(len(bike_share)):\n",
    "    count = bike_share[i]\n",
    "    pct_string = '{:0.2f}%'.format(100*count/total)\n",
    "    plt.text(i, count+1, pct_string,va= 'bottom', ha='center')\n",
    "    \n",
    "# include axis labels and title\n",
    "plt.ylabel('Frequency of Trip')\n",
    "plt.xlabel(' ')\n",
    "plt.title('Bike Share For All Distribution');"
   ]
  },
  {
   "cell_type": "markdown",
   "metadata": {},
   "source": [
    "##### Observation: "
   ]
  },
  {
   "cell_type": "markdown",
   "metadata": {},
   "source": [
    "> * From the bar chart, we can observe that 9 out of 10 user aren't enrolled with the discount program."
   ]
  },
  {
   "cell_type": "markdown",
   "metadata": {},
   "source": [
    "#### Univariate `#6` "
   ]
  },
  {
   "cell_type": "markdown",
   "metadata": {},
   "source": [
    "##### Question: \n",
    "\n",
    "> * **What is the distribution of trip base on the day of trip**"
   ]
  },
  {
   "cell_type": "markdown",
   "metadata": {},
   "source": [
    "##### Visualization: "
   ]
  },
  {
   "cell_type": "code",
   "execution_count": 53,
   "metadata": {},
   "outputs": [
    {
     "data": {
      "text/plain": [
       "Thursday     33712\n",
       "Tuesday      30584\n",
       "Wednesday    28426\n",
       "Friday       27663\n",
       "Monday       25641\n",
       "Sunday       14512\n",
       "Saturday     14414\n",
       "Name: week_day, dtype: int64"
      ]
     },
     "execution_count": 53,
     "metadata": {},
     "output_type": "execute_result"
    }
   ],
   "source": [
    "# Getting the count for each day. \n",
    "day_count = gobike['week_day'].value_counts() \n",
    "day_count"
   ]
  },
  {
   "cell_type": "code",
   "execution_count": 54,
   "metadata": {},
   "outputs": [
    {
     "data": {
      "image/png": "[encoded data removed]",
      "text/plain": [
       "<Figure size 504x288 with 1 Axes>"
      ]
     },
     "metadata": {
      "needs_background": "light"
     },
     "output_type": "display_data"
    }
   ],
   "source": [
    "# Color palette \n",
    "base_color = sns.color_palette()[2]\n",
    "\n",
    "# Plot size \n",
    "plt.figure(figsize = [7, 4])\n",
    "\n",
    "# Plot barh chart.  \n",
    "sns.countplot(data=gobike, x='week_day', color=base_color, \n",
    "              order=day_count.index)\n",
    "\n",
    "# Remove right and top spines\n",
    "sns.despine()\n",
    "\n",
    "# Total number of rows from the dataset\n",
    "total = gobike.shape[0]\n",
    "\n",
    "# use a loop to print each station's relative frequency on the chart\n",
    "for i in range(len(day_count)):\n",
    "    count = day_count[i]\n",
    "    pct_string = '{:0.2f}%'.format(100*count/total)\n",
    "    plt.text(i, count+1, pct_string, va= 'bottom', ha='center')\n",
    "    \n",
    "# include axis labels and title\n",
    "plt.ylabel('Frequency of Trip')\n",
    "plt.xlabel('Day of the Week')\n",
    "plt.title(' Day of the week Trip Distribution');"
   ]
  },
  {
   "cell_type": "markdown",
   "metadata": {},
   "source": [
    "##### Observation: \n",
    "\n",
    "> * Approximately 20% of the trip for the week are consentrated on Thursday, followed by Tuesdays with 17.48, and this continues with a steady decline till monday. \n",
    ">\n",
    "> * Saturday and Sunday seems to have the least activities with just 8.24% and 8.29% respectivily. This follows pre-existing believes, because people then to move less during weekend. \n",
    ">\n",
    "> * Of all the work day trip Monday seems to have the lowest trip with just 14.66%, this was unexpected as we assumed that monday being the busiest day of week should have more trip counts. "
   ]
  },
  {
   "cell_type": "markdown",
   "metadata": {},
   "source": [
    "#### Univariate `#7`: "
   ]
  },
  {
   "cell_type": "markdown",
   "metadata": {},
   "source": [
    "##### Question:  \n",
    "\n",
    "> * **What is the distribution of Hours?**"
   ]
  },
  {
   "cell_type": "markdown",
   "metadata": {},
   "source": [
    "##### Visualization: \n"
   ]
  },
  {
   "cell_type": "code",
   "execution_count": 55,
   "metadata": {},
   "outputs": [
    {
     "data": {
      "text/plain": [
       "count     174952\n",
       "unique        24\n",
       "top           17\n",
       "freq       20904\n",
       "Name: hours, dtype: int64"
      ]
     },
     "execution_count": 55,
     "metadata": {},
     "output_type": "execute_result"
    }
   ],
   "source": [
    "# Get column stata\n",
    "gobike['hours'].describe()"
   ]
  },
  {
   "cell_type": "code",
   "execution_count": 56,
   "metadata": {},
   "outputs": [
    {
     "data": {
      "image/png": "[encoded data removed]",
      "text/plain": [
       "<Figure size 360x360 with 1 Axes>"
      ]
     },
     "metadata": {
      "needs_background": "light"
     },
     "output_type": "display_data"
    }
   ],
   "source": [
    "# set bins taking into consideration the variable's distribution\n",
    "bins = np.arange(0, 1+0.5, 0.5)\n",
    "\n",
    "# plot histogram using the bins we set above\n",
    "sns.displot(gobike['hours'], bins=bins, color= 'g')\n",
    "\n",
    "# set axes labels and chart title\n",
    "plt.ylabel('Number of Trips')\n",
    "plt.xlabel('Hours')\n",
    "plt.title('Trip Hourly Distribution');"
   ]
  },
  {
   "cell_type": "markdown",
   "metadata": {},
   "source": [
    "> Their seems to be pattern in the data let use a line chart for a better visualization."
   ]
  },
  {
   "cell_type": "code",
   "execution_count": 57,
   "metadata": {},
   "outputs": [
    {
     "data": {
      "text/plain": [
       "17    20904\n",
       "8     20227\n",
       "18    16118\n",
       "9     15204\n",
       "16    13473\n",
       "7     10231\n",
       "19     9424\n",
       "15     8646\n",
       "12     8220\n",
       "13     8098\n",
       "10     7970\n",
       "14     7677\n",
       "11     7461\n",
       "20     6211\n",
       "21     4400\n",
       "6      3293\n",
       "22     2793\n",
       "23     1572\n",
       "0       893\n",
       "5       866\n",
       "1       525\n",
       "2       355\n",
       "4       227\n",
       "3       164\n",
       "Name: hours, dtype: int64"
      ]
     },
     "execution_count": 57,
     "metadata": {},
     "output_type": "execute_result"
    }
   ],
   "source": [
    "# get the number of trips per hour\n",
    "hour_freq = gobike['hours'].value_counts()\n",
    "hour_freq"
   ]
  },
  {
   "cell_type": "code",
   "execution_count": 58,
   "metadata": {},
   "outputs": [
    {
     "data": {
      "text/plain": [
       "CategoricalIndex([17,  8, 18,  9, 16,  7, 19, 15, 12, 13, 10, 14, 11, 20, 21,\n",
       "                   6, 22, 23,  0,  5,  1,  2,  4,  3],\n",
       "                 categories=[0, 1, 2, 3, 4, 5, 6, 7, ...], ordered=True, dtype='category')"
      ]
     },
     "execution_count": 58,
     "metadata": {},
     "output_type": "execute_result"
    }
   ],
   "source": [
    "# get the indexes of the peak hours\n",
    "# this will be useful when rawing the vertical line\n",
    "# in the x-axis below to draw attention to peak times: 17:00 and 8:00\n",
    "hour_sorted = hour_freq.index\n",
    "hour_sorted"
   ]
  },
  {
   "cell_type": "code",
   "execution_count": 59,
   "metadata": {},
   "outputs": [
    {
     "data": {
      "image/png": "[encoded data removed]",
      "text/plain": [
       "<Figure size 864x288 with 1 Axes>"
      ]
     },
     "metadata": {
      "needs_background": "light"
     },
     "output_type": "display_data"
    }
   ],
   "source": [
    "# plot line chart of the hourly distribution of trips\n",
    "plt.figure(figsize=[12,4])\n",
    "sns.lineplot(x=hour_freq.keys(), y=hour_freq,color = 'g')\n",
    "plt.xticks(range(0,24))\n",
    "plt.axvline(x=hour_sorted[0], color='b', linewidth=2)\n",
    "plt.axvline(x=hour_sorted[1], color='b', linewidth=2)\n",
    "plt.ylabel('Number of Trips')\n",
    "plt.xlabel('Hour')\n",
    "plt.title('Trip Distribution by Hour', fontsize=14);"
   ]
  },
  {
   "cell_type": "markdown",
   "metadata": {},
   "source": [
    "##### Observation: \n",
    "> * During peak times, the number of trips increase significantly. In order to emphasize this trend, I included two vertical lines on the two peaks: one at 8 a.m., and another at 5 p.m. (17:00).\n",
    "> * Interestingly, from 10am to 3pm, the number of trips taken are more or less the same.\n",
    "> * The earlier hours have the least amount of trips"
   ]
  },
  {
   "cell_type": "markdown",
   "metadata": {},
   "source": [
    "### Quatitative Feature: Univariate"
   ]
  },
  {
   "cell_type": "markdown",
   "metadata": {},
   "source": [
    "#### Univariate `#8` : **What is the Distribution Duration (in minute) ?**"
   ]
  },
  {
   "cell_type": "markdown",
   "metadata": {},
   "source": [
    "##### Visualization: \n"
   ]
  },
  {
   "cell_type": "code",
   "execution_count": 60,
   "metadata": {},
   "outputs": [
    {
     "data": {
      "text/plain": [
       "count    174952.000000\n",
       "mean        704.002744\n",
       "std        1642.204905\n",
       "min          61.000000\n",
       "25%         323.000000\n",
       "50%         510.000000\n",
       "75%         789.000000\n",
       "max       84548.000000\n",
       "Name: duration_sec, dtype: float64"
      ]
     },
     "execution_count": 60,
     "metadata": {},
     "output_type": "execute_result"
    }
   ],
   "source": [
    "# see how the trips are distributed\n",
    "gobike['duration_sec'].describe()"
   ]
  },
  {
   "cell_type": "code",
   "execution_count": 61,
   "metadata": {},
   "outputs": [
    {
     "data": {
      "image/png": "[encoded data removed]",
      "text/plain": [
       "<Figure size 360x360 with 1 Axes>"
      ]
     },
     "metadata": {
      "needs_background": "light"
     },
     "output_type": "display_data"
    }
   ],
   "source": [
    "# set bins taking into consideration the variable's distribution\n",
    "bins = np.arange(0, gobike['duration_sec'].max()+50, 50)\n",
    "\n",
    "# plot histogram using the bins we set above\n",
    "sns.displot(gobike['duration_sec'], bins=bins)\n",
    "\n",
    "# trim x-axis to remove outliers and facilitate analysis\n",
    "plt.xlim([0, 2e3])\n",
    "\n",
    "# set axes labels and chart title\n",
    "plt.ylabel('Number of Trips')\n",
    "plt.xlabel('Trip Duration (seconds)')\n",
    "plt.title('Trip Duration Distribution');"
   ]
  },
  {
   "cell_type": "markdown",
   "metadata": {},
   "source": [
    "> For a better visualization it is best we apply log as the long tail suggest a distribution that is shewed. "
   ]
  },
  {
   "cell_type": "code",
   "execution_count": 62,
   "metadata": {},
   "outputs": [
    {
     "data": {
      "image/png": "[encoded data removed]",
      "text/plain": [
       "<Figure size 1008x360 with 1 Axes>"
      ]
     },
     "metadata": {
      "needs_background": "light"
     },
     "output_type": "display_data"
    }
   ],
   "source": [
    "# set new bins\n",
    "bins = 10 ** np.arange(1.5, 5+0.05, 0.05)\n",
    "\n",
    "# plot chart\n",
    "sns.displot(gobike['duration_sec'], bins=bins)\n",
    "\n",
    "# use log scale in the x-axis\n",
    "plt.xscale('log')\n",
    "\n",
    "# set the xticks and xtick labels\n",
    "\n",
    "plt.xticks([0, 50, 100, 200, 500, 1e3, 2e3, 5e3, 1e4], [0, 50, 100, 200, 500, '1k', '2k', '5k', '10k'])\n",
    "\n",
    "# crop x-axis to remove outliers\n",
    "plt.xlim((50, 1e4))\n",
    "\n",
    "# axis labels\n",
    "plt.xlabel('Trip Duration (seconds)')\n",
    "plt.ylabel('Number of Trips')\n",
    "\n",
    "# increase figure size\n",
    "plt.gcf().set_size_inches(14,5)\n",
    "\n",
    "# set title\n",
    "plt.title('Trip Duration Distribution');"
   ]
  },
  {
   "cell_type": "markdown",
   "metadata": {},
   "source": [
    "##### Observation: \n",
    "\n",
    "> * From the histogram above we can say that most of the trip duration takes between 4 to 15 minutes. \n",
    "> * Using a log to tranfore the column result in a normal distribution. "
   ]
  },
  {
   "cell_type": "markdown",
   "metadata": {},
   "source": [
    "#### Univariate `#9`: **What is the Distribution of Age?** "
   ]
  },
  {
   "cell_type": "markdown",
   "metadata": {},
   "source": [
    "##### Visualization: "
   ]
  },
  {
   "cell_type": "code",
   "execution_count": 63,
   "metadata": {},
   "outputs": [
    {
     "data": {
      "text/plain": [
       "count    174952.000000\n",
       "mean         34.196865\n",
       "std          10.118731\n",
       "min          18.000000\n",
       "25%          27.000000\n",
       "50%          32.000000\n",
       "75%          39.000000\n",
       "max         141.000000\n",
       "Name: age, dtype: float64"
      ]
     },
     "execution_count": 63,
     "metadata": {},
     "output_type": "execute_result"
    }
   ],
   "source": [
    "# Checking the distribution user age. \n",
    "gobike['age'].describe()"
   ]
  },
  {
   "cell_type": "code",
   "execution_count": 64,
   "metadata": {},
   "outputs": [
    {
     "data": {
      "image/png": "[encoded data removed]",
      "text/plain": [
       "<Figure size 864x360 with 1 Axes>"
      ]
     },
     "metadata": {
      "needs_background": "light"
     },
     "output_type": "display_data"
    }
   ],
   "source": [
    "# set bins taking into account birth year distribution\n",
    "bins = np.arange(18, gobike['age'].max()+1, 1)\n",
    "\n",
    "# plot histogram using the bins\n",
    "sns.displot(data=gobike, x='age', color='g', bins=bins)\n",
    "\n",
    "# remove right and top spines\n",
    "sns.despine()\n",
    "\n",
    "# limit x-axis to make interpretation easier\n",
    "plt.xlim(18,70)\n",
    "\n",
    "# axes labels and title\n",
    "plt.xlabel('Age')\n",
    "plt.ylabel('Number of Trips')\n",
    "plt.title('Age Distribution')\n",
    "\n",
    "# increase chart size\n",
    "plt.gcf().set_size_inches(12,5);"
   ]
  },
  {
   "cell_type": "markdown",
   "metadata": {},
   "source": [
    "##### Observation: \n",
    "\n",
    "> * From the graph above we can observed that most of our user are between the age brake of 20 to 40. \n",
    "> * Age is plays a significant role in whether to a user will pick a bike or not, this is because the old we \n",
    "get the weaker we are to ride a bike. \n",
    "> * There seems to be an error in one of the data in which a user is 141 year of age, this can either be a \n",
    "typo error or the person is an outlier(I know that this a typo but i just wanted to entertain the idea that someone \n",
    "lived till 141). "
   ]
  },
  {
   "cell_type": "markdown",
   "metadata": {},
   "source": [
    "### Discuss the distribution(s) of your variable(s) of interest. Were there any unusual points? Did you need to perform any transformations?\n",
    "   From our visualization we saw that most of the trip durtion (in seconds) were between 240 and 900 seconds, this insight was got when we plotted a histogram of the duration column and we discoverted that the data were stew to the right, to correct this we applyed a log function on our data we finally got a normal distribution. \n",
    "\n",
    "\n",
    "### Of the features you investigated, were there any unusual distributions? Did you perform any operations on the data to tidy, adjust, or change the form of the data? If so, why did you do this?\n",
    "   During the course of plotting our distribution one of the features that struck my interest the most were the week_day feature, this was as a result of how the data were distributed between the days of the week as i expect the number of trip \n",
    "should be at it highest on mondy and steadly decline to Sunday, but the distrubution showed us that Thursday, followed by Tuesday has the highest number of trips. \n",
    "\n",
    "At the begin of plotting our feature distribution we discovered that some of the distribution we were interested in don't have a data to work with, so we did some feature engineering on the available data. Example of such data were the week_day, age, and hours columns this was as a result of needing to check how each variable is distributed espacially how many trip took place on a particular day or hour of the week. "
   ]
  },
  {
   "cell_type": "markdown",
   "metadata": {},
   "source": [
    "## Bivariate Exploration\n",
    "For this section of the data exploration we will be looking at the following ralationship between variours data:\n",
    "\n",
    "1. What is the Relationship between Starting Hours and user age?\n",
    "2. How does Age affect the trip duations? \n",
    "4. How does gender affect tip duration?\n",
    "5. How does user type and trip duration related to each other? "
   ]
  },
  {
   "cell_type": "markdown",
   "metadata": {},
   "source": [
    "#### Bivariate `#10`: How does Age affect the trip duations? "
   ]
  },
  {
   "cell_type": "markdown",
   "metadata": {},
   "source": [
    "#### Visualization: "
   ]
  },
  {
   "cell_type": "code",
   "execution_count": 65,
   "metadata": {},
   "outputs": [
    {
     "data": {
      "image/png": "[encoded data removed]",
      "text/plain": [
       "<Figure size 1080x360 with 1 Axes>"
      ]
     },
     "metadata": {
      "needs_background": "light"
     },
     "output_type": "display_data"
    }
   ],
   "source": [
    "# plot a scatter plot considering user age and trip duration(in minute)\n",
    "\n",
    "# Figure Size.\n",
    "plt.figure(figsize=[15,5])\n",
    "\n",
    "# Plotting Scatter plot.\n",
    "plt.scatter(data=gobike, x='age', y='duration_min', alpha=1/10)\n",
    "\n",
    "# setting axis limite.\n",
    "plt.xlim([18, 80])\n",
    "plt.ylim([0, 60])\n",
    "\n",
    "# Plat annotation.\n",
    "plt.ylabel('Trip Duration (Minutes)')\n",
    "plt.xlabel('Age')\n",
    "plt.title('Trip Duration by Age', fontsize=14);"
   ]
  },
  {
   "cell_type": "markdown",
   "metadata": {},
   "source": [
    "#### Observation: \n",
    "\n",
    "* This scatter plot shows a negative ralationship between the age of our users and the trip duraion \n",
    "\n",
    "* This implies that user who are in their early 20s and to late 30s use our service more. \n",
    "\n",
    "* The older the user the less time they user our services."
   ]
  },
  {
   "cell_type": "markdown",
   "metadata": {},
   "source": [
    "#### Bivariate `#11`: What is the Relationship between Starting Hours and user age? "
   ]
  },
  {
   "cell_type": "markdown",
   "metadata": {},
   "source": [
    "#### Visualization:"
   ]
  },
  {
   "cell_type": "code",
   "execution_count": 66,
   "metadata": {},
   "outputs": [
    {
     "data": {
      "image/png": "[encoded data removed]",
      "text/plain": [
       "<Figure size 1296x576 with 2 Axes>"
      ]
     },
     "metadata": {
      "needs_background": "light"
     },
     "output_type": "display_data"
    }
   ],
   "source": [
    "# Bin size.\n",
    "bins_x = np.arange(0, gobike['hours'].max()+1, 1)\n",
    "bins_y = np.arange(18, 80+5, 5)\n",
    "\n",
    "# Plotting a 2d histogram\n",
    "plt.figure(figsize=[18,8])\n",
    "h2d = plt.hist2d(data=gobike, x='hours', y='age', cmin=5, cmap='viridis_r', bins=[bins_x, bins_y])\n",
    "plt.colorbar()\n",
    "plt.xticks(range(0,24));\n",
    "plt.yticks(range(18,80+1,5))\n",
    "plt.ylabel('Age')\n",
    "plt.xlabel('Hour')\n",
    "plt.title('Number of Trips by Age and Hour')\n",
    "\n",
    "\n",
    "# loop to print the counts for each block\n",
    "counts = h2d[0]\n",
    "\n",
    "for i in range(counts.shape[0]):\n",
    "    for j in range(counts.shape[1]):\n",
    "        c = counts[i, j]\n",
    "        if c >= 2e3:\n",
    "            plt.text(bins_x[i]+0.5, bins_y[j]+2.5, int(c),\n",
    "                    ha='center', va='center', color='white')\n",
    "        elif c > 0:\n",
    "            plt.text(bins_x[i]+0.5, bins_y[j]+2.5, int(c),\n",
    "                      ha='center', va='center', color='black');"
   ]
  },
  {
   "cell_type": "markdown",
   "metadata": {},
   "source": [
    "#### Observation: \n",
    "* From the heat map above, we can see most trips were taken by people in their 20s to 40s. The peaks at 8am and 5pm are also observable.\n",
    "* At the very early hours of the day, we can also see trips from younger people, which might indicate they use the bikes after a night out as well."
   ]
  },
  {
   "cell_type": "markdown",
   "metadata": {},
   "source": [
    "####  Bivariate `#12`: How does gender affect trip duration ?"
   ]
  },
  {
   "cell_type": "markdown",
   "metadata": {},
   "source": [
    "#### Visualization: "
   ]
  },
  {
   "cell_type": "code",
   "execution_count": 67,
   "metadata": {},
   "outputs": [
    {
     "data": {
      "text/html": [
       "<div>\n",
       "<style scoped>\n",
       "    .dataframe tbody tr th:only-of-type {\n",
       "        vertical-align: middle;\n",
       "    }\n",
       "\n",
       "    .dataframe tbody tr th {\n",
       "        vertical-align: top;\n",
       "    }\n",
       "\n",
       "    .dataframe thead th {\n",
       "        text-align: right;\n",
       "    }\n",
       "</style>\n",
       "<table border=\"1\" class=\"dataframe\">\n",
       "  <thead>\n",
       "    <tr style=\"text-align: right;\">\n",
       "      <th></th>\n",
       "      <th>count</th>\n",
       "      <th>mean</th>\n",
       "      <th>std</th>\n",
       "      <th>min</th>\n",
       "      <th>25%</th>\n",
       "      <th>50%</th>\n",
       "      <th>75%</th>\n",
       "      <th>max</th>\n",
       "    </tr>\n",
       "    <tr>\n",
       "      <th>member_gender</th>\n",
       "      <th></th>\n",
       "      <th></th>\n",
       "      <th></th>\n",
       "      <th></th>\n",
       "      <th></th>\n",
       "      <th></th>\n",
       "      <th></th>\n",
       "      <th></th>\n",
       "    </tr>\n",
       "  </thead>\n",
       "  <tbody>\n",
       "    <tr>\n",
       "      <th>Male</th>\n",
       "      <td>130500.0</td>\n",
       "      <td>11.206581</td>\n",
       "      <td>25.079909</td>\n",
       "      <td>1.016667</td>\n",
       "      <td>5.183333</td>\n",
       "      <td>8.216667</td>\n",
       "      <td>12.683333</td>\n",
       "      <td>1409.133333</td>\n",
       "    </tr>\n",
       "    <tr>\n",
       "      <th>Female</th>\n",
       "      <td>40805.0</td>\n",
       "      <td>12.981213</td>\n",
       "      <td>29.783394</td>\n",
       "      <td>1.016667</td>\n",
       "      <td>6.016667</td>\n",
       "      <td>9.450000</td>\n",
       "      <td>14.400000</td>\n",
       "      <td>1386.583333</td>\n",
       "    </tr>\n",
       "    <tr>\n",
       "      <th>Other</th>\n",
       "      <td>3647.0</td>\n",
       "      <td>16.622141</td>\n",
       "      <td>58.770767</td>\n",
       "      <td>1.050000</td>\n",
       "      <td>5.733333</td>\n",
       "      <td>9.266667</td>\n",
       "      <td>14.575000</td>\n",
       "      <td>1375.200000</td>\n",
       "    </tr>\n",
       "  </tbody>\n",
       "</table>\n",
       "</div>"
      ],
      "text/plain": [
       "                  count       mean        std       min       25%       50%  \\\n",
       "member_gender                                                                 \n",
       "Male           130500.0  11.206581  25.079909  1.016667  5.183333  8.216667   \n",
       "Female          40805.0  12.981213  29.783394  1.016667  6.016667  9.450000   \n",
       "Other            3647.0  16.622141  58.770767  1.050000  5.733333  9.266667   \n",
       "\n",
       "                     75%          max  \n",
       "member_gender                          \n",
       "Male           12.683333  1409.133333  \n",
       "Female         14.400000  1386.583333  \n",
       "Other          14.575000  1375.200000  "
      ]
     },
     "execution_count": 67,
     "metadata": {},
     "output_type": "execute_result"
    }
   ],
   "source": [
    "# check the distribution of duration grouped by gender\n",
    "gobike.groupby(['member_gender'])['duration_min'].describe()"
   ]
  },
  {
   "cell_type": "code",
   "execution_count": 68,
   "metadata": {},
   "outputs": [
    {
     "data": {
      "image/png": "[encoded data removed]",
      "text/plain": [
       "<Figure size 1440x360 with 2 Axes>"
      ]
     },
     "metadata": {
      "needs_background": "light"
     },
     "output_type": "display_data"
    }
   ],
   "source": [
    "# I'll try creating a violin plot and a box plot, side-by-side\n",
    "# using gender and trip duration\n",
    "\n",
    "fig, axes = plt.subplots(1, 2, figsize=[20,5], sharey=True)\n",
    "\n",
    "# Remove Frame\n",
    "sns.despine()\n",
    "\n",
    "# plot 1: violin \n",
    "sns.violinplot(ax=axes[0], data=gobike, x='member_gender', y='duration_min', color=base_color)\n",
    "axes[0].set_ylim([0, 70])\n",
    "axes[0].set_ylabel('Trip Duration (Minutes)')\n",
    "axes[0].set_xlabel('Gender')\n",
    "\n",
    "# plot 2: box plot\n",
    "sns.boxplot(data=gobike, x='member_gender', y='duration_min', color=base_color)\n",
    "axes[1].set_ylabel('Trip Duration (Minutes)')\n",
    "axes[1].set_xlabel('Gender')\n",
    "\n",
    "# overall title\n",
    "plt.suptitle('Trip Duration by Gender', fontsize=14);"
   ]
  },
  {
   "cell_type": "markdown",
   "metadata": {},
   "source": [
    "#### Observation:\n",
    "\n",
    "* The trip duration for non-binary users is more evenly distributed than males and females. Female and male trips tend to be around 10 minutes or so.\n",
    "* When looking at trips that take from 1500 seconds (25 minutes) to 2000 seconds (35 minutes), however, these are more common among females than males.\n",
    "* It's worth noting that these nuances were better noticed in the violin plot than the box plot, in this case."
   ]
  },
  {
   "cell_type": "markdown",
   "metadata": {},
   "source": [
    "####  Bivariate `#13`:How does user type and trip duration related to each other? "
   ]
  },
  {
   "cell_type": "markdown",
   "metadata": {},
   "source": [
    "#### Visualization:"
   ]
  },
  {
   "cell_type": "code",
   "execution_count": 69,
   "metadata": {},
   "outputs": [
    {
     "data": {
      "image/png": "[encoded data removed]",
      "text/plain": [
       "<Figure size 1440x360 with 2 Axes>"
      ]
     },
     "metadata": {
      "needs_background": "light"
     },
     "output_type": "display_data"
    }
   ],
   "source": [
    "# I'll repeat the approach of plotting a violin and a box plot side-by-side\n",
    "fig, axes = plt.subplots(1, 2, figsize=[20,5], sharey=True)\n",
    "\n",
    "# Remove Frame\n",
    "sns.despine()\n",
    "\n",
    "# plot 1: violin \n",
    "sns.violinplot(ax=axes[0], data=gobike, x='user_type', y='duration_min', color=base_color)\n",
    "axes[0].set_ylim([0, 70])\n",
    "axes[0].set_xlabel('User Type')\n",
    "axes[0].set_ylabel('Trip Duration (Minutes)')\n",
    "\n",
    "# plot 2: box plot\n",
    "sns.boxplot(data=gobike, x='user_type', y='duration_min', color=base_color)\n",
    "axes[1].set_ylim([0, 70])\n",
    "axes[1].set_xlabel('User Type')\n",
    "axes[1].set_ylabel('Trip Duration (minutes)')\n",
    "\n",
    "# overall title\n",
    "plt.suptitle('Trip Duration by User Type', fontsize=14);"
   ]
  },
  {
   "cell_type": "markdown",
   "metadata": {},
   "source": [
    "#### Observation: \n",
    "\n",
    "* Customers tend to take longer trips than subscribers.\n",
    "* This might be because of the more casual nature of their trips."
   ]
  },
  {
   "cell_type": "markdown",
   "metadata": {},
   "source": [
    "### Talk about some of the relationships you observed in this part of the investigation. How did the feature(s) of interest vary with other features in the dataset?\n",
    "In this section, I tried plotting some variables against my faeature of interest, trip duration. When I used Age and trip duration, I observe that there is a negative relation between age and trips trip duration, as a result the older a user is the the shorter the trip duration. \n",
    "\n",
    "\n",
    "After plotting the age and trip duration using scatter plot we observe that there is a nagetive relationship between the age and trip duration, then we plot a heatmap on the relationship between starting hours and age. we can see most trips were taken by people in their 20s to 40s. The peaks at 8am and 5pm are also observable.\n",
    "\n",
    "At this point, I moved on to investigate my main feature of interest, trip duration, against categorical variables. First, I did a violin plot and a box plot of the relationship between trip duration and gender. Once I did that, I noticed the trip duration for non-binary users is more evenly distributed than males and females. Female and male trips tend to be around 10 minutes or so. Also, longer trips that take from 25 to 35 minutes are more common among females than males. These nuances were better noticed in the violin plot than the box plot, in this instance.\n",
    "\n",
    "Finally, I did a similar approach for trip duration and user type. From the chart, we can clearly see that customers tend to take longer trips than subscribers. A possible explanation might be the more casual nature of their trips.\n",
    "\n",
    "### Did you observe any interesting relationships between the other features (not the main feature(s) of interest)?\n",
    "I plotted a heat map to investigate te relationship between age and start hour of trips. The plot shows what we've established before, both the fact that most trips were taken by people in their 20s to 40s, also that the peaks are at 8am and 5pm. What was interesting was that at the very early hours of the day (before sunrise), we can also see trips from younger people, which might indicate they use the bikes after a night out as well."
   ]
  },
  {
   "cell_type": "markdown",
   "metadata": {},
   "source": [
    "## Multivariate Exploration"
   ]
  },
  {
   "cell_type": "code",
   "execution_count": 70,
   "metadata": {},
   "outputs": [
    {
     "data": {
      "text/html": [
       "<div>\n",
       "<style scoped>\n",
       "    .dataframe tbody tr th:only-of-type {\n",
       "        vertical-align: middle;\n",
       "    }\n",
       "\n",
       "    .dataframe tbody tr th {\n",
       "        vertical-align: top;\n",
       "    }\n",
       "\n",
       "    .dataframe thead th {\n",
       "        text-align: right;\n",
       "    }\n",
       "</style>\n",
       "<table border=\"1\" class=\"dataframe\">\n",
       "  <thead>\n",
       "    <tr style=\"text-align: right;\">\n",
       "      <th></th>\n",
       "      <th>duration_sec</th>\n",
       "      <th>start_time</th>\n",
       "      <th>end_time</th>\n",
       "      <th>start_station_id</th>\n",
       "      <th>start_station_name</th>\n",
       "      <th>end_station_id</th>\n",
       "      <th>end_station_name</th>\n",
       "      <th>bike_id</th>\n",
       "      <th>user_type</th>\n",
       "      <th>member_birth_year</th>\n",
       "      <th>member_gender</th>\n",
       "      <th>bike_share_for_all_trip</th>\n",
       "      <th>duration_min</th>\n",
       "      <th>week_day</th>\n",
       "      <th>hours</th>\n",
       "      <th>age</th>\n",
       "    </tr>\n",
       "  </thead>\n",
       "  <tbody>\n",
       "    <tr>\n",
       "      <th>5106</th>\n",
       "      <td>277</td>\n",
       "      <td>2019-02-28 14:04:17.612</td>\n",
       "      <td>2019-02-28 14:08:54.824</td>\n",
       "      <td>216.0</td>\n",
       "      <td>San Pablo Ave at 27th St</td>\n",
       "      <td>218.0</td>\n",
       "      <td>DeFremery Park</td>\n",
       "      <td>6033</td>\n",
       "      <td>Subscriber</td>\n",
       "      <td>1991</td>\n",
       "      <td>Male</td>\n",
       "      <td>False</td>\n",
       "      <td>4.616667</td>\n",
       "      <td>Thursday</td>\n",
       "      <td>14</td>\n",
       "      <td>28</td>\n",
       "    </tr>\n",
       "    <tr>\n",
       "      <th>38276</th>\n",
       "      <td>1547</td>\n",
       "      <td>2019-02-23 12:02:42.509</td>\n",
       "      <td>2019-02-23 12:28:29.992</td>\n",
       "      <td>119.0</td>\n",
       "      <td>18th St at Noe St</td>\n",
       "      <td>74.0</td>\n",
       "      <td>Laguna St at Hayes St</td>\n",
       "      <td>6493</td>\n",
       "      <td>Customer</td>\n",
       "      <td>1989</td>\n",
       "      <td>Male</td>\n",
       "      <td>False</td>\n",
       "      <td>25.783333</td>\n",
       "      <td>Saturday</td>\n",
       "      <td>12</td>\n",
       "      <td>30</td>\n",
       "    </tr>\n",
       "    <tr>\n",
       "      <th>28457</th>\n",
       "      <td>361</td>\n",
       "      <td>2019-02-25 08:41:43.151</td>\n",
       "      <td>2019-02-25 08:47:44.881</td>\n",
       "      <td>28.0</td>\n",
       "      <td>The Embarcadero at Bryant St</td>\n",
       "      <td>81.0</td>\n",
       "      <td>Berry St at 4th St</td>\n",
       "      <td>6505</td>\n",
       "      <td>Subscriber</td>\n",
       "      <td>1971</td>\n",
       "      <td>Male</td>\n",
       "      <td>False</td>\n",
       "      <td>6.016667</td>\n",
       "      <td>Monday</td>\n",
       "      <td>8</td>\n",
       "      <td>48</td>\n",
       "    </tr>\n",
       "    <tr>\n",
       "      <th>3721</th>\n",
       "      <td>515</td>\n",
       "      <td>2019-02-28 16:59:22.811</td>\n",
       "      <td>2019-02-28 17:07:58.092</td>\n",
       "      <td>67.0</td>\n",
       "      <td>San Francisco Caltrain Station 2  (Townsend St...</td>\n",
       "      <td>15.0</td>\n",
       "      <td>San Francisco Ferry Building (Harry Bridges Pl...</td>\n",
       "      <td>4962</td>\n",
       "      <td>Subscriber</td>\n",
       "      <td>1984</td>\n",
       "      <td>Male</td>\n",
       "      <td>False</td>\n",
       "      <td>8.583333</td>\n",
       "      <td>Thursday</td>\n",
       "      <td>16</td>\n",
       "      <td>35</td>\n",
       "    </tr>\n",
       "    <tr>\n",
       "      <th>3492</th>\n",
       "      <td>739</td>\n",
       "      <td>2019-02-28 17:08:20.300</td>\n",
       "      <td>2019-02-28 17:20:40.120</td>\n",
       "      <td>20.0</td>\n",
       "      <td>Mechanics Monument Plaza (Market St at Bush St)</td>\n",
       "      <td>87.0</td>\n",
       "      <td>Folsom St at 13th St</td>\n",
       "      <td>5951</td>\n",
       "      <td>Subscriber</td>\n",
       "      <td>1990</td>\n",
       "      <td>Male</td>\n",
       "      <td>False</td>\n",
       "      <td>12.316667</td>\n",
       "      <td>Thursday</td>\n",
       "      <td>17</td>\n",
       "      <td>29</td>\n",
       "    </tr>\n",
       "    <tr>\n",
       "      <th>...</th>\n",
       "      <td>...</td>\n",
       "      <td>...</td>\n",
       "      <td>...</td>\n",
       "      <td>...</td>\n",
       "      <td>...</td>\n",
       "      <td>...</td>\n",
       "      <td>...</td>\n",
       "      <td>...</td>\n",
       "      <td>...</td>\n",
       "      <td>...</td>\n",
       "      <td>...</td>\n",
       "      <td>...</td>\n",
       "      <td>...</td>\n",
       "      <td>...</td>\n",
       "      <td>...</td>\n",
       "      <td>...</td>\n",
       "    </tr>\n",
       "    <tr>\n",
       "      <th>156894</th>\n",
       "      <td>314</td>\n",
       "      <td>2019-02-06 07:10:41.180</td>\n",
       "      <td>2019-02-06 07:15:55.260</td>\n",
       "      <td>15.0</td>\n",
       "      <td>San Francisco Ferry Building (Harry Bridges Pl...</td>\n",
       "      <td>13.0</td>\n",
       "      <td>Commercial St at Montgomery St</td>\n",
       "      <td>3589</td>\n",
       "      <td>Subscriber</td>\n",
       "      <td>1972</td>\n",
       "      <td>Male</td>\n",
       "      <td>False</td>\n",
       "      <td>5.233333</td>\n",
       "      <td>Wednesday</td>\n",
       "      <td>7</td>\n",
       "      <td>47</td>\n",
       "    </tr>\n",
       "    <tr>\n",
       "      <th>99487</th>\n",
       "      <td>112</td>\n",
       "      <td>2019-02-14 19:57:49.970</td>\n",
       "      <td>2019-02-14 19:59:42.809</td>\n",
       "      <td>77.0</td>\n",
       "      <td>11th St at Natoma St</td>\n",
       "      <td>77.0</td>\n",
       "      <td>11th St at Natoma St</td>\n",
       "      <td>6579</td>\n",
       "      <td>Subscriber</td>\n",
       "      <td>1991</td>\n",
       "      <td>Male</td>\n",
       "      <td>False</td>\n",
       "      <td>1.866667</td>\n",
       "      <td>Thursday</td>\n",
       "      <td>19</td>\n",
       "      <td>28</td>\n",
       "    </tr>\n",
       "    <tr>\n",
       "      <th>181764</th>\n",
       "      <td>381</td>\n",
       "      <td>2019-02-01 08:55:54.587</td>\n",
       "      <td>2019-02-01 09:02:16.116</td>\n",
       "      <td>44.0</td>\n",
       "      <td>Civic Center/UN Plaza BART Station (Market St ...</td>\n",
       "      <td>78.0</td>\n",
       "      <td>Folsom St at 9th St</td>\n",
       "      <td>4889</td>\n",
       "      <td>Subscriber</td>\n",
       "      <td>1991</td>\n",
       "      <td>Male</td>\n",
       "      <td>False</td>\n",
       "      <td>6.350000</td>\n",
       "      <td>Friday</td>\n",
       "      <td>8</td>\n",
       "      <td>28</td>\n",
       "    </tr>\n",
       "    <tr>\n",
       "      <th>128991</th>\n",
       "      <td>689</td>\n",
       "      <td>2019-02-10 11:45:50.004</td>\n",
       "      <td>2019-02-10 11:57:19.235</td>\n",
       "      <td>73.0</td>\n",
       "      <td>Pierce St at Haight St</td>\n",
       "      <td>70.0</td>\n",
       "      <td>Central Ave at Fell St</td>\n",
       "      <td>5496</td>\n",
       "      <td>Subscriber</td>\n",
       "      <td>1999</td>\n",
       "      <td>Male</td>\n",
       "      <td>False</td>\n",
       "      <td>11.483333</td>\n",
       "      <td>Sunday</td>\n",
       "      <td>11</td>\n",
       "      <td>20</td>\n",
       "    </tr>\n",
       "    <tr>\n",
       "      <th>8558</th>\n",
       "      <td>463</td>\n",
       "      <td>2019-02-28 08:16:51.199</td>\n",
       "      <td>2019-02-28 08:24:34.391</td>\n",
       "      <td>64.0</td>\n",
       "      <td>5th St at Brannan St</td>\n",
       "      <td>22.0</td>\n",
       "      <td>Howard St at Beale St</td>\n",
       "      <td>6080</td>\n",
       "      <td>Subscriber</td>\n",
       "      <td>1978</td>\n",
       "      <td>Male</td>\n",
       "      <td>False</td>\n",
       "      <td>7.716667</td>\n",
       "      <td>Thursday</td>\n",
       "      <td>8</td>\n",
       "      <td>41</td>\n",
       "    </tr>\n",
       "  </tbody>\n",
       "</table>\n",
       "<p>200 rows × 16 columns</p>\n",
       "</div>"
      ],
      "text/plain": [
       "        duration_sec              start_time                end_time  \\\n",
       "5106             277 2019-02-28 14:04:17.612 2019-02-28 14:08:54.824   \n",
       "38276           1547 2019-02-23 12:02:42.509 2019-02-23 12:28:29.992   \n",
       "28457            361 2019-02-25 08:41:43.151 2019-02-25 08:47:44.881   \n",
       "3721             515 2019-02-28 16:59:22.811 2019-02-28 17:07:58.092   \n",
       "3492             739 2019-02-28 17:08:20.300 2019-02-28 17:20:40.120   \n",
       "...              ...                     ...                     ...   \n",
       "156894           314 2019-02-06 07:10:41.180 2019-02-06 07:15:55.260   \n",
       "99487            112 2019-02-14 19:57:49.970 2019-02-14 19:59:42.809   \n",
       "181764           381 2019-02-01 08:55:54.587 2019-02-01 09:02:16.116   \n",
       "128991           689 2019-02-10 11:45:50.004 2019-02-10 11:57:19.235   \n",
       "8558             463 2019-02-28 08:16:51.199 2019-02-28 08:24:34.391   \n",
       "\n",
       "       start_station_id                                 start_station_name  \\\n",
       "5106              216.0                           San Pablo Ave at 27th St   \n",
       "38276             119.0                                  18th St at Noe St   \n",
       "28457              28.0                       The Embarcadero at Bryant St   \n",
       "3721               67.0  San Francisco Caltrain Station 2  (Townsend St...   \n",
       "3492               20.0    Mechanics Monument Plaza (Market St at Bush St)   \n",
       "...                 ...                                                ...   \n",
       "156894             15.0  San Francisco Ferry Building (Harry Bridges Pl...   \n",
       "99487              77.0                               11th St at Natoma St   \n",
       "181764             44.0  Civic Center/UN Plaza BART Station (Market St ...   \n",
       "128991             73.0                             Pierce St at Haight St   \n",
       "8558               64.0                               5th St at Brannan St   \n",
       "\n",
       "       end_station_id                                   end_station_name  \\\n",
       "5106            218.0                                     DeFremery Park   \n",
       "38276            74.0                              Laguna St at Hayes St   \n",
       "28457            81.0                                 Berry St at 4th St   \n",
       "3721             15.0  San Francisco Ferry Building (Harry Bridges Pl...   \n",
       "3492             87.0                               Folsom St at 13th St   \n",
       "...               ...                                                ...   \n",
       "156894           13.0                     Commercial St at Montgomery St   \n",
       "99487            77.0                               11th St at Natoma St   \n",
       "181764           78.0                                Folsom St at 9th St   \n",
       "128991           70.0                             Central Ave at Fell St   \n",
       "8558             22.0                              Howard St at Beale St   \n",
       "\n",
       "       bike_id   user_type  member_birth_year member_gender  \\\n",
       "5106      6033  Subscriber               1991          Male   \n",
       "38276     6493    Customer               1989          Male   \n",
       "28457     6505  Subscriber               1971          Male   \n",
       "3721      4962  Subscriber               1984          Male   \n",
       "3492      5951  Subscriber               1990          Male   \n",
       "...        ...         ...                ...           ...   \n",
       "156894    3589  Subscriber               1972          Male   \n",
       "99487     6579  Subscriber               1991          Male   \n",
       "181764    4889  Subscriber               1991          Male   \n",
       "128991    5496  Subscriber               1999          Male   \n",
       "8558      6080  Subscriber               1978          Male   \n",
       "\n",
       "        bike_share_for_all_trip  duration_min   week_day hours  age  \n",
       "5106                      False      4.616667   Thursday    14   28  \n",
       "38276                     False     25.783333   Saturday    12   30  \n",
       "28457                     False      6.016667     Monday     8   48  \n",
       "3721                      False      8.583333   Thursday    16   35  \n",
       "3492                      False     12.316667   Thursday    17   29  \n",
       "...                         ...           ...        ...   ...  ...  \n",
       "156894                    False      5.233333  Wednesday     7   47  \n",
       "99487                     False      1.866667   Thursday    19   28  \n",
       "181764                    False      6.350000     Friday     8   28  \n",
       "128991                    False     11.483333     Sunday    11   20  \n",
       "8558                      False      7.716667   Thursday     8   41  \n",
       "\n",
       "[200 rows x 16 columns]"
      ]
     },
     "execution_count": 70,
     "metadata": {},
     "output_type": "execute_result"
    }
   ],
   "source": [
    "# get a subset of our sample to reduce overplotting\n",
    "gobike_subset = gobike.sample(200)\n",
    "gobike_subset"
   ]
  },
  {
   "cell_type": "markdown",
   "metadata": {},
   "source": [
    "#### Multivariate `#15`:  What is the  Ralationship between Age, Trip Duration (minutes),and Gender."
   ]
  },
  {
   "cell_type": "markdown",
   "metadata": {},
   "source": [
    "#### Visualisation: "
   ]
  },
  {
   "cell_type": "code",
   "execution_count": 71,
   "metadata": {},
   "outputs": [
    {
     "data": {
      "image/png": "[encoded data removed]",
      "text/plain": [
       "<Figure size 1008x504 with 1 Axes>"
      ]
     },
     "metadata": {
      "needs_background": "light"
     },
     "output_type": "display_data"
    }
   ],
   "source": [
    "# create a scatter plot with age on the x-axis,\n",
    "# trip duration on the y-axis,\n",
    "# with different markers for gender\n",
    "\n",
    "# set markers for each gender\n",
    "ttype_makers = [['Male', 'o'],\n",
    "                ['Female', '*'],\n",
    "                ['Other', '^']]\n",
    "\n",
    "# loop through the data to assign the chosen marker to each one\n",
    "for ttype, marker in ttype_makers:\n",
    "    plot_data = gobike_subset.loc[gobike_subset['member_gender'] == ttype]\n",
    "    sns.regplot(data=plot_data, x='age', y='duration_min', x_jitter=0.04, \n",
    "                fit_reg=False, marker=marker, scatter_kws={'alpha': 1/2})\n",
    "\n",
    "# remove top and right spines\n",
    "sns.despine()\n",
    "\n",
    "# set legend\n",
    "plt.legend(['Male', 'Female', 'Other'], loc=7, frameon=False)\n",
    "\n",
    "# limit both axis considering their individual distributions\n",
    "plt.xlim([18,70])\n",
    "plt.ylim([1,60])\n",
    "\n",
    "# axes labels and title\n",
    "plt.ylabel('Duration (minutes)')\n",
    "plt.xlabel('Age')\n",
    "plt.title('Trip Duration Distribution by Age')\n",
    "\n",
    "# increase figure size\n",
    "plt.gcf().set_size_inches(14,7);"
   ]
  },
  {
   "cell_type": "markdown",
   "metadata": {},
   "source": [
    "#### Observation: \n",
    "\n",
    "* Take note from our provious observation we can see that there still exist a negative relationship between age and trip duration. \n",
    "\n",
    "* This also inform us that the trip tend to be between 4 to 15 trip. \n",
    "\n",
    "* One new finding from the analysis is that there seems to be a more female taking longer trip than male. "
   ]
  },
  {
   "cell_type": "markdown",
   "metadata": {},
   "source": [
    "#### Multivariate `#16`: What is the Ralationship between Age, Trip Duration (minutes), and user_type? "
   ]
  },
  {
   "cell_type": "markdown",
   "metadata": {},
   "source": [
    "#### Visualization: "
   ]
  },
  {
   "cell_type": "code",
   "execution_count": 72,
   "metadata": {},
   "outputs": [
    {
     "data": {
      "image/png": "[encoded data removed]",
      "text/plain": [
       "<Figure size 1008x504 with 1 Axes>"
      ]
     },
     "metadata": {
      "needs_background": "light"
     },
     "output_type": "display_data"
    }
   ],
   "source": [
    "# create a scatter plot with age on the x-axis,\n",
    "# trip duration on the y-axis,\n",
    "# with different markers for type of user\n",
    "\n",
    "# set markers for each user type\n",
    "ttype_makers = [['Subscriber', 'o'],\n",
    "                ['Customer', '*']]\n",
    "\n",
    "# loop through the data to assign the chosen marker to each one\n",
    "for ttype, marker in ttype_makers:\n",
    "    plot_data = gobike_subset.loc[gobike_subset['user_type'] == ttype]\n",
    "    sns.regplot(data=plot_data, x='age', y='duration_min', x_jitter=0.04, \n",
    "                fit_reg=False, marker=marker, scatter_kws={'alpha': 1/2})\n",
    "\n",
    "# remove top and right spines\n",
    "sns.despine()\n",
    "\n",
    "# set legend\n",
    "plt.legend(['Subscriber', 'Customer'], loc=7, frameon=False)\n",
    "\n",
    "# limit both axis considering their individual distributions\n",
    "plt.xlim([18,70])\n",
    "plt.ylim([1,60])\n",
    "\n",
    "# axes labels and title\n",
    "plt.ylabel('Duration (minutes)')\n",
    "plt.xlabel('Age')\n",
    "plt.title('Trip Duration Distribution by Age')\n",
    "\n",
    "# increase figure size\n",
    "plt.gcf().set_size_inches(14,7);"
   ]
  },
  {
   "cell_type": "markdown",
   "metadata": {},
   "source": [
    "#### Observation: \n",
    "\n",
    "* from the plot abover we can see that mostly older people tend to be a subscriber than causer customer.\n",
    "* We can also observe that most casual customer are between 25 to 40."
   ]
  },
  {
   "cell_type": "markdown",
   "metadata": {},
   "source": [
    "#### Multivariate `#17`: What is the Ralationship between Gender, Trip Duration (minutes), and user_type?"
   ]
  },
  {
   "cell_type": "markdown",
   "metadata": {},
   "source": [
    "#### Visualization: "
   ]
  },
  {
   "cell_type": "code",
   "execution_count": 73,
   "metadata": {},
   "outputs": [
    {
     "data": {
      "text/plain": [
       "user_type   member_gender\n",
       "Subscriber  Male             10.271101\n",
       "            Female           11.607134\n",
       "            Other            15.202909\n",
       "Customer    Male             20.893225\n",
       "            Female           23.735468\n",
       "            Other            26.705000\n",
       "Name: duration_min, dtype: float64"
      ]
     },
     "execution_count": 73,
     "metadata": {},
     "output_type": "execute_result"
    }
   ],
   "source": [
    "# Find the mean trip duration grouped by user type and gender\n",
    "# This will help see if I plotted the charts below correctly\n",
    "gobike.groupby(['user_type', 'member_gender'])['duration_min'].mean()"
   ]
  },
  {
   "cell_type": "code",
   "execution_count": 74,
   "metadata": {},
   "outputs": [
    {
     "data": {
      "image/png": "[encoded data removed]",
      "text/plain": [
       "<Figure size 1080x576 with 2 Axes>"
      ]
     },
     "metadata": {
      "needs_background": "light"
     },
     "output_type": "display_data"
    }
   ],
   "source": [
    "# Plot the data using three variables:\n",
    "# Gender on the x-axis,\n",
    "# Mean trip duration on the y-axis and,\n",
    "# User Type a color encoding (hue)\n",
    "\n",
    "fig, axes = plt.subplots(1, 2, figsize=(15, 8), sharey=True)\n",
    "\n",
    "# plot 1: point plot\n",
    "sns.pointplot(ax=axes[0], data=gobike, x='member_gender', y='duration_min', hue='user_type',\n",
    "             dodge=True, linestyles=\"\", ci=None, markers=[\"^\", \"*\"])\n",
    "sns.despine()\n",
    "axes[0].set_yticks(np.arange(0, 60+5, 5))\n",
    "axes[0].legend(title='User Type', frameon=False, loc=1)\n",
    "axes[0].set_ylabel('Avg. Duration (Minutes)')\n",
    "axes[0].set_xlabel('Gender')\n",
    "axes[0].set_title('Average Trip Duration by Gender');\n",
    "\n",
    "# plot 2: box plot\n",
    "sns.boxplot(ax=axes[1], data=gobike, x='member_gender', y='duration_min', hue='user_type')\n",
    "axes[1].set_ylim([0, 60])\n",
    "axes[1].set_ylabel('Duration (Mintutes)')\n",
    "axes[1].set_xlabel('Gender');\n",
    "axes[1].legend(title='User Type', frameon=False, loc=6, bbox_to_anchor=(1.0, 0.5))\n",
    "axes[1].set_title('Trip Duration Distribution by Gender');"
   ]
  },
  {
   "cell_type": "markdown",
   "metadata": {},
   "source": [
    "#### Observation: '\n",
    "* From the point plot, we can see that customers have longer average trips than subscribers, for every gender. Also, for non-binary individuals, the average trip is slightly longer for both user type groups, when compared to males and females. When compared to men, women take slightly longer trips as well.\n",
    "* From the box plot, we can see that the distributions for subscribers has less variability than customers', for every gender.\n",
    "* Originally, I added a lineplot too, but the lines might infer that there is an order from one gender to the other, which could be misleading to readers. So, I commented out the visualization and presented only the point plot and the box plot."
   ]
  },
  {
   "cell_type": "markdown",
   "metadata": {},
   "source": [
    "### Talk about some of the relationships you observed in this part of the investigation. Were there features that strengthened each other in terms of looking at your feature(s) of interest?\n",
    "Firstly, we analysis the relationship between the age, gender, and trip duration and this inform us that there is a negative relationship between the age and trip duration, with female customer having a higher trip duration than others. \n",
    "\n",
    "Next we looked at the relationship between age, user type, and trip duration, and like our previous finding on the relationship between trip duration and age the same still hold true with this plot, but when we look at the user type we discovered that most of the highest trip duration were from causal customers not suscribers. \n",
    "\n",
    "Lastly, i plotted a graph showing the relationship between gender, user type, and trip duration, this showed us that among gender and user type user who don't have a gender identity  have higher trip duraton and same go for both subscribers and casual customers.\n",
    "\n",
    "### Were there any interesting or surprising interactions between features?\n",
    "The most surprising relationship i discovered during this section of my analysis was the relationship between the rate of age, user type, and trip duration, in which we saw that casual users have a higher trip duraion than subscribers. This was surprising because we expect that for an individual to subscripe for our service this user must be someone that users our service regularly and longer, but our data doesn't agree with this premise instead causal customers have a higher trip duration than subscribers. "
   ]
  },
  {
   "cell_type": "code",
   "execution_count": null,
   "metadata": {},
   "outputs": [],
   "source": []
  },
  {
   "cell_type": "markdown",
   "metadata": {},
   "source": [
    "## Conclusions\n",
    " Our Objective on performing explorative data analysis on our data was to find out how different variables/features interact with our main feature of interest which is trip duration, from showing distribution of individual features, to showing the relationship between 2 or more feature. \n",
    " \n",
    " Before we moved to data exploration we performed some ***preliminary data wrangling***, in this section we clean our data by correcting different data format, removing none values, and dropping columns that aren't useful for our analysis. \n",
    " \n",
    " ***Univariate Graph Findings***\n",
    " \n",
    " * We plotted the top 10 most used staring and ending station, we found out that 15 to 17 percent of trip activities are from only 3% of the stations. \n",
    " * The trip duraion histogram showed us that most of the trip were between 5 to 15 minutes. \n",
    " * At the begininge of our exploration we performed some feature egineering on our starting time, of this we exacted the hour a trip started and ended. from the extraction we plotted a histogram and found out that most of users use our service around 8am in morning and 5pm in the evening, \n",
    " * Also we exacted the day of the week in which each trip was held and found out that most of our trip were on Thursdays, followed by Tuesday, with monday coming last for work days, Saturdays and Sundays had the least activities of the 7 days.\n",
    " \n",
    " \n",
    " ***Bivariate Graph Findings*** \n",
    " \n",
    " \n",
    " * Plotting a scatter plot of age and trip duration shows a negative relationship between trip duration and age, implying that the older a user is the less time usering our service. \n",
    " * Using a heatmap i was able to observe the relationship between age and starting hours, and this informed us that individuals within the age of 20 to 40 were use our servise in the monring around 8 and in the evening around 5. \n",
    " * Plotting a box plot using the relationship between the trip duration and user type showed us that casual customers have higher trip duration than subscribers.\n",
    " * I use a violin plot to understand the relationship between the trip duration and gender, this showed on that on average other gender type have a more distributed duration time than the other genders. \n",
    " \n",
    " \n",
    " ***Multivariate Graph Findings*** \n",
    " \n",
    " \n",
    " * When comparing the relationship between age, trip duration and gender, female tend to have a higher trip duration time than others. \n",
    " * Examing the relationship between age, trip duration, and user type used us that on avarage causal customers have a higher trip duratin than sebscribers and most of our old users like to use our subscription service more than causal customers. \n",
    " *  I did a scatter plot of age vs. trip duration, with different markers for user type. In this chart, it was interesting to see that older people apparently prefer to be a subscriber instead of customer, but this warrants further investigation."
   ]
  }
 ],
 "metadata": {
  "kernelspec": {
   "display_name": "Python 3 (ipykernel)",
   "language": "python",
   "name": "python3"
  },
  "language_info": {
   "codemirror_mode": {
    "name": "ipython",
    "version": 3
   },
   "file_extension": ".py",
   "mimetype": "text/x-python",
   "name": "python",
   "nbconvert_exporter": "python",
   "pygments_lexer": "ipython3",
   "version": "3.9.12"
  }
 },
 "nbformat": 4,
 "nbformat_minor": 2
}
