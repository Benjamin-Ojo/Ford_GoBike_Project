{
  "nbformat": 4,
  "nbformat_minor": 0,
  "metadata": {
    "colab": {
      "provenance": [],
      "authorship_tag": "ABX9TyNW9QesQpGdLmxX1FheWxst"
    },
    "kernelspec": {
      "name": "python3",
      "display_name": "Python 3"
    },
    "language_info": {
      "name": "python"
    }
  },
  "cells": [
    {
      "cell_type": "markdown",
      "source": [
        "# **Project: Card Image Classification**\n",
        "---"
      ],
      "metadata": {
        "id": "oIUoVj-zM97u"
      }
    },
    {
      "cell_type": "markdown",
      "source": [
        "## **Introduction:**\n",
        "\n",
        "Welcome to an exciting project where we will be exploring the fascinating world of image recognition! Our project focuses on the task of classifying a set of poker cards into 53 different categories based on their type.\n",
        "\n",
        "Using a Convolutional Neural Network (CNN) model, we will train our model to accurately classify images of poker cards into any of the 53 categories. Our dataset, which was obtained from a popular data science community, Kaggle, contains a total of 8154 images of poker cards, divided into 7624 train, 265 test, and 265 validation sets. Each image is a 224 x 224 3-dimensional jpg format.\n",
        "\n",
        "The dataset we used for this project can be found on the Kaggle website at the following link: [Cards Image Dataset-Classification](https://www.kaggle.com/datasets/gpiosenka/cards-image-datasetclassification). This project will not only teach us how to build a powerful image recognition model using a CNN model, but it will also give us a deeper understanding of the complexities involved in training a machine learning algorithm to recognize images. So, buckle up, and let's dive into this thrilling project together!"
      ],
      "metadata": {
        "id": "V5TvsdU9NP99"
      }
    },
    {
      "cell_type": "markdown",
      "source": [
        "### Prject Break Down: \n",
        "The project would be broken down in the following:\n",
        "Certainly! Here's a breakdown of what this image recognition project will entail:\n",
        "\n",
        "1. **Data Wrangling:** We will download the poker card image dataset from Kaggle and examine the images to gain insights into the data.\n",
        "\n",
        "2. **Data Preprocessing:** We will preprocess the images by resizing them to a standard size and converting them into an array format suitable for feeding into our CNN model.\n",
        "\n",
        "3. **Data Augmentation:** We will use data augmentation techniques such as image rotation, flipping, and zooming to increase the size of our dataset and improve the robustness of our model.\n",
        "\n",
        "4. **Model Building:** We will build a CNN model using Keras with TensorFlow backend, and train the model using our preprocessed dataset. We will experiment with different architectures, hyperparameters, and optimization algorithms to achieve optimal performance.\n",
        "\n",
        "5. **Model Evaluation:** We will evaluate the performance of our model using various metrics such as accuracy, precision, recall, and F1 score, and visualize the results using confusion matrix and classification report.\n",
        "\n",
        "6. **Model Deployment:** We will deploy our trained model to make predictions on new, unseen poker card images, and visualize the predictions.\n",
        "\n"
      ],
      "metadata": {
        "id": "HYCSITnTRFdD"
      }
    },
    {
      "cell_type": "markdown",
      "source": [
        "## **Data Wrangling:**"
      ],
      "metadata": {
        "id": "07Rrcv_xXN5P"
      }
    },
    {
      "cell_type": "markdown",
      "source": [
        "### Data Collection:\n",
        "\n",
        "We will be downloading our dataset form kaggle and extracting the data from the zip foulder it enclosed in using zipfile package."
      ],
      "metadata": {
        "id": "CsBoRvq-XgSl"
      }
    },
    {
      "cell_type": "code",
      "source": [
        "# Define dataset folder. \n",
        "! mkdir 1.Dataset.\n"
      ],
      "metadata": {
        "colab": {
          "base_uri": "https://localhost:8080/"
        },
        "id": "1FEgSKNFNODX",
        "outputId": "80de2f5b-612e-47db-aac4-d9463db01592"
      },
      "execution_count": 9,
      "outputs": [
        {
          "output_type": "stream",
          "name": "stdout",
          "text": [
            "mkdir: cannot create directory ‘1.Dataset.’: File exists\n"
          ]
        }
      ]
    }
  ]
}